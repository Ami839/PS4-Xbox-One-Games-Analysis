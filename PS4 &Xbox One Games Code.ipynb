{
 "cells": [
  {
   "cell_type": "markdown",
   "id": "ab1d4b68",
   "metadata": {
    "id": "ab1d4b68",
    "papermill": {
     "duration": 0.015368,
     "end_time": "2022-10-18T21:44:08.476059",
     "exception": false,
     "start_time": "2022-10-18T21:44:08.460691",
     "status": "completed"
    },
    "tags": []
   },
   "source": [
    "#Exploring and Cleaning the Dataset"
   ]
  },
  {
   "cell_type": "code",
   "execution_count": 1,
   "id": "9dfba4e5",
   "metadata": {
    "execution": {
     "iopub.execute_input": "2022-10-18T21:44:08.505012Z",
     "iopub.status.busy": "2022-10-18T21:44:08.504542Z",
     "iopub.status.idle": "2022-10-18T21:44:09.564140Z",
     "shell.execute_reply": "2022-10-18T21:44:09.562959Z"
    },
    "executionInfo": {
     "elapsed": 1908,
     "status": "ok",
     "timestamp": 1688424221695,
     "user": {
      "displayName": "amirthan mahindan",
      "userId": "09203620967699906811"
     },
     "user_tz": -60
    },
    "id": "9dfba4e5",
    "papermill": {
     "duration": 1.077498,
     "end_time": "2022-10-18T21:44:09.567018",
     "exception": false,
     "start_time": "2022-10-18T21:44:08.489520",
     "status": "completed"
    },
    "tags": []
   },
   "outputs": [],
   "source": [
    "import pandas as pd\n",
    "import numpy as np\n",
    "import matplotlib.pyplot as plt\n",
    "import seaborn as sns"
   ]
  },
  {
   "cell_type": "code",
   "execution_count": 2,
   "id": "c5fdbef6",
   "metadata": {
    "colab": {
     "base_uri": "https://localhost:8080/",
     "height": 0
    },
    "execution": {
     "iopub.execute_input": "2022-10-18T21:44:09.595799Z",
     "iopub.status.busy": "2022-10-18T21:44:09.595387Z",
     "iopub.status.idle": "2022-10-18T21:44:09.637195Z",
     "shell.execute_reply": "2022-10-18T21:44:09.636111Z"
    },
    "executionInfo": {
     "elapsed": 64,
     "status": "ok",
     "timestamp": 1688424221707,
     "user": {
      "displayName": "amirthan mahindan",
      "userId": "09203620967699906811"
     },
     "user_tz": -60
    },
    "id": "c5fdbef6",
    "outputId": "b681cffc-371f-44ce-d8c9-350596c670e7",
    "papermill": {
     "duration": 0.059272,
     "end_time": "2022-10-18T21:44:09.639824",
     "exception": false,
     "start_time": "2022-10-18T21:44:09.580552",
     "status": "completed"
    },
    "tags": []
   },
   "outputs": [
    {
     "data": {
      "text/html": [
       "<div>\n",
       "<style scoped>\n",
       "    .dataframe tbody tr th:only-of-type {\n",
       "        vertical-align: middle;\n",
       "    }\n",
       "\n",
       "    .dataframe tbody tr th {\n",
       "        vertical-align: top;\n",
       "    }\n",
       "\n",
       "    .dataframe thead th {\n",
       "        text-align: right;\n",
       "    }\n",
       "</style>\n",
       "<table border=\"1\" class=\"dataframe\">\n",
       "  <thead>\n",
       "    <tr style=\"text-align: right;\">\n",
       "      <th></th>\n",
       "      <th>Game</th>\n",
       "      <th>Year</th>\n",
       "      <th>Genre</th>\n",
       "      <th>Publisher</th>\n",
       "      <th>North America</th>\n",
       "      <th>Europe</th>\n",
       "      <th>Japan</th>\n",
       "      <th>Rest of World</th>\n",
       "      <th>Global</th>\n",
       "    </tr>\n",
       "  </thead>\n",
       "  <tbody>\n",
       "    <tr>\n",
       "      <th>0</th>\n",
       "      <td>Grand Theft Auto V</td>\n",
       "      <td>2014.0</td>\n",
       "      <td>Action</td>\n",
       "      <td>Rockstar Games</td>\n",
       "      <td>6.06</td>\n",
       "      <td>9.71</td>\n",
       "      <td>0.60</td>\n",
       "      <td>3.02</td>\n",
       "      <td>19.39</td>\n",
       "    </tr>\n",
       "    <tr>\n",
       "      <th>1</th>\n",
       "      <td>Call of Duty: Black Ops 3</td>\n",
       "      <td>2015.0</td>\n",
       "      <td>Shooter</td>\n",
       "      <td>Activision</td>\n",
       "      <td>6.18</td>\n",
       "      <td>6.05</td>\n",
       "      <td>0.41</td>\n",
       "      <td>2.44</td>\n",
       "      <td>15.09</td>\n",
       "    </tr>\n",
       "    <tr>\n",
       "      <th>2</th>\n",
       "      <td>Red Dead Redemption 2</td>\n",
       "      <td>2018.0</td>\n",
       "      <td>Action-Adventure</td>\n",
       "      <td>Rockstar Games</td>\n",
       "      <td>5.26</td>\n",
       "      <td>6.21</td>\n",
       "      <td>0.21</td>\n",
       "      <td>2.26</td>\n",
       "      <td>13.94</td>\n",
       "    </tr>\n",
       "    <tr>\n",
       "      <th>3</th>\n",
       "      <td>Call of Duty: WWII</td>\n",
       "      <td>2017.0</td>\n",
       "      <td>Shooter</td>\n",
       "      <td>Activision</td>\n",
       "      <td>4.67</td>\n",
       "      <td>6.21</td>\n",
       "      <td>0.40</td>\n",
       "      <td>2.12</td>\n",
       "      <td>13.40</td>\n",
       "    </tr>\n",
       "    <tr>\n",
       "      <th>4</th>\n",
       "      <td>FIFA 18</td>\n",
       "      <td>2017.0</td>\n",
       "      <td>Sports</td>\n",
       "      <td>EA Sports</td>\n",
       "      <td>1.27</td>\n",
       "      <td>8.64</td>\n",
       "      <td>0.15</td>\n",
       "      <td>1.73</td>\n",
       "      <td>11.80</td>\n",
       "    </tr>\n",
       "  </tbody>\n",
       "</table>\n",
       "</div>"
      ],
      "text/plain": [
       "                        Game    Year             Genre       Publisher  \\\n",
       "0         Grand Theft Auto V  2014.0            Action  Rockstar Games   \n",
       "1  Call of Duty: Black Ops 3  2015.0           Shooter      Activision   \n",
       "2      Red Dead Redemption 2  2018.0  Action-Adventure  Rockstar Games   \n",
       "3         Call of Duty: WWII  2017.0           Shooter      Activision   \n",
       "4                    FIFA 18  2017.0            Sports       EA Sports   \n",
       "\n",
       "   North America  Europe  Japan  Rest of World  Global  \n",
       "0           6.06    9.71   0.60           3.02   19.39  \n",
       "1           6.18    6.05   0.41           2.44   15.09  \n",
       "2           5.26    6.21   0.21           2.26   13.94  \n",
       "3           4.67    6.21   0.40           2.12   13.40  \n",
       "4           1.27    8.64   0.15           1.73   11.80  "
      ]
     },
     "execution_count": 2,
     "metadata": {},
     "output_type": "execute_result"
    }
   ],
   "source": [
    "data_ps4 = pd.read_csv('PS4_GamesSales.csv', encoding = 'iso-8859-1')\n",
    "data_ps4.head()"
   ]
  },
  {
   "cell_type": "code",
   "execution_count": 3,
   "id": "21b5429a",
   "metadata": {
    "colab": {
     "base_uri": "https://localhost:8080/",
     "height": 0
    },
    "execution": {
     "iopub.execute_input": "2022-10-18T21:44:09.669573Z",
     "iopub.status.busy": "2022-10-18T21:44:09.669175Z",
     "iopub.status.idle": "2022-10-18T21:44:09.695526Z",
     "shell.execute_reply": "2022-10-18T21:44:09.694356Z"
    },
    "executionInfo": {
     "elapsed": 58,
     "status": "ok",
     "timestamp": 1688424221709,
     "user": {
      "displayName": "amirthan mahindan",
      "userId": "09203620967699906811"
     },
     "user_tz": -60
    },
    "id": "21b5429a",
    "outputId": "8ce682a7-9366-4a6a-8695-b3a05dd12f9e",
    "papermill": {
     "duration": 0.044241,
     "end_time": "2022-10-18T21:44:09.698114",
     "exception": false,
     "start_time": "2022-10-18T21:44:09.653873",
     "status": "completed"
    },
    "tags": []
   },
   "outputs": [
    {
     "data": {
      "text/html": [
       "<div>\n",
       "<style scoped>\n",
       "    .dataframe tbody tr th:only-of-type {\n",
       "        vertical-align: middle;\n",
       "    }\n",
       "\n",
       "    .dataframe tbody tr th {\n",
       "        vertical-align: top;\n",
       "    }\n",
       "\n",
       "    .dataframe thead th {\n",
       "        text-align: right;\n",
       "    }\n",
       "</style>\n",
       "<table border=\"1\" class=\"dataframe\">\n",
       "  <thead>\n",
       "    <tr style=\"text-align: right;\">\n",
       "      <th></th>\n",
       "      <th>Pos</th>\n",
       "      <th>Game</th>\n",
       "      <th>Year</th>\n",
       "      <th>Genre</th>\n",
       "      <th>Publisher</th>\n",
       "      <th>North America</th>\n",
       "      <th>Europe</th>\n",
       "      <th>Japan</th>\n",
       "      <th>Rest of World</th>\n",
       "      <th>Global</th>\n",
       "    </tr>\n",
       "  </thead>\n",
       "  <tbody>\n",
       "    <tr>\n",
       "      <th>0</th>\n",
       "      <td>1</td>\n",
       "      <td>Grand Theft Auto V</td>\n",
       "      <td>2014.0</td>\n",
       "      <td>Action</td>\n",
       "      <td>Rockstar Games</td>\n",
       "      <td>4.70</td>\n",
       "      <td>3.25</td>\n",
       "      <td>0.01</td>\n",
       "      <td>0.76</td>\n",
       "      <td>8.72</td>\n",
       "    </tr>\n",
       "    <tr>\n",
       "      <th>1</th>\n",
       "      <td>2</td>\n",
       "      <td>Call of Duty: Black Ops 3</td>\n",
       "      <td>2015.0</td>\n",
       "      <td>Shooter</td>\n",
       "      <td>Activision</td>\n",
       "      <td>4.63</td>\n",
       "      <td>2.04</td>\n",
       "      <td>0.02</td>\n",
       "      <td>0.68</td>\n",
       "      <td>7.37</td>\n",
       "    </tr>\n",
       "    <tr>\n",
       "      <th>2</th>\n",
       "      <td>3</td>\n",
       "      <td>Call of Duty: WWII</td>\n",
       "      <td>2017.0</td>\n",
       "      <td>Shooter</td>\n",
       "      <td>Activision</td>\n",
       "      <td>3.75</td>\n",
       "      <td>1.91</td>\n",
       "      <td>0.00</td>\n",
       "      <td>0.57</td>\n",
       "      <td>6.23</td>\n",
       "    </tr>\n",
       "    <tr>\n",
       "      <th>3</th>\n",
       "      <td>4</td>\n",
       "      <td>Red Dead Redemption 2</td>\n",
       "      <td>2018.0</td>\n",
       "      <td>Action-Adventure</td>\n",
       "      <td>Rockstar Games</td>\n",
       "      <td>3.76</td>\n",
       "      <td>1.47</td>\n",
       "      <td>0.00</td>\n",
       "      <td>0.54</td>\n",
       "      <td>5.77</td>\n",
       "    </tr>\n",
       "    <tr>\n",
       "      <th>4</th>\n",
       "      <td>5</td>\n",
       "      <td>MineCraft</td>\n",
       "      <td>2014.0</td>\n",
       "      <td>Misc</td>\n",
       "      <td>Microsoft Studios</td>\n",
       "      <td>3.23</td>\n",
       "      <td>1.71</td>\n",
       "      <td>0.00</td>\n",
       "      <td>0.49</td>\n",
       "      <td>5.43</td>\n",
       "    </tr>\n",
       "  </tbody>\n",
       "</table>\n",
       "</div>"
      ],
      "text/plain": [
       "   Pos                       Game    Year             Genre  \\\n",
       "0    1         Grand Theft Auto V  2014.0            Action   \n",
       "1    2  Call of Duty: Black Ops 3  2015.0           Shooter   \n",
       "2    3         Call of Duty: WWII  2017.0           Shooter   \n",
       "3    4      Red Dead Redemption 2  2018.0  Action-Adventure   \n",
       "4    5                  MineCraft  2014.0              Misc   \n",
       "\n",
       "           Publisher  North America  Europe  Japan  Rest of World  Global  \n",
       "0     Rockstar Games           4.70    3.25   0.01           0.76    8.72  \n",
       "1         Activision           4.63    2.04   0.02           0.68    7.37  \n",
       "2         Activision           3.75    1.91   0.00           0.57    6.23  \n",
       "3     Rockstar Games           3.76    1.47   0.00           0.54    5.77  \n",
       "4  Microsoft Studios           3.23    1.71   0.00           0.49    5.43  "
      ]
     },
     "execution_count": 3,
     "metadata": {},
     "output_type": "execute_result"
    }
   ],
   "source": [
    "data_xbox = pd.read_csv('XboxOne_GameSales.csv', encoding = 'iso-8859-1')\n",
    "data_xbox.head()"
   ]
  },
  {
   "cell_type": "code",
   "execution_count": 4,
   "id": "54422789",
   "metadata": {
    "execution": {
     "iopub.execute_input": "2022-10-18T21:44:10.558082Z",
     "iopub.status.busy": "2022-10-18T21:44:10.557488Z",
     "iopub.status.idle": "2022-10-18T21:44:10.562578Z",
     "shell.execute_reply": "2022-10-18T21:44:10.561819Z"
    },
    "executionInfo": {
     "elapsed": 55,
     "status": "ok",
     "timestamp": 1688424221710,
     "user": {
      "displayName": "amirthan mahindan",
      "userId": "09203620967699906811"
     },
     "user_tz": -60
    },
    "id": "54422789",
    "papermill": {
     "duration": 0.023864,
     "end_time": "2022-10-18T21:44:10.564697",
     "exception": false,
     "start_time": "2022-10-18T21:44:10.540833",
     "status": "completed"
    },
    "tags": []
   },
   "outputs": [],
   "source": [
    "data_ps4.insert(0, 'Game_ID', range(len(data_ps4)))"
   ]
  },
  {
   "cell_type": "code",
   "execution_count": 5,
   "id": "dc5972c1",
   "metadata": {
    "colab": {
     "base_uri": "https://localhost:8080/",
     "height": 0
    },
    "execution": {
     "iopub.execute_input": "2022-10-18T21:44:10.597415Z",
     "iopub.status.busy": "2022-10-18T21:44:10.596683Z",
     "iopub.status.idle": "2022-10-18T21:44:10.602160Z",
     "shell.execute_reply": "2022-10-18T21:44:10.601136Z"
    },
    "executionInfo": {
     "elapsed": 56,
     "status": "ok",
     "timestamp": 1688424221713,
     "user": {
      "displayName": "amirthan mahindan",
      "userId": "09203620967699906811"
     },
     "user_tz": -60
    },
    "id": "dc5972c1",
    "outputId": "16909553-95f8-4db9-dc7c-67a9d4f462e4",
    "papermill": {
     "duration": 0.024112,
     "end_time": "2022-10-18T21:44:10.604224",
     "exception": false,
     "start_time": "2022-10-18T21:44:10.580112",
     "status": "completed"
    },
    "tags": []
   },
   "outputs": [
    {
     "data": {
      "text/html": [
       "<div>\n",
       "<style scoped>\n",
       "    .dataframe tbody tr th:only-of-type {\n",
       "        vertical-align: middle;\n",
       "    }\n",
       "\n",
       "    .dataframe tbody tr th {\n",
       "        vertical-align: top;\n",
       "    }\n",
       "\n",
       "    .dataframe thead th {\n",
       "        text-align: right;\n",
       "    }\n",
       "</style>\n",
       "<table border=\"1\" class=\"dataframe\">\n",
       "  <thead>\n",
       "    <tr style=\"text-align: right;\">\n",
       "      <th></th>\n",
       "      <th>Game</th>\n",
       "      <th>Year</th>\n",
       "      <th>Genre</th>\n",
       "      <th>Publisher</th>\n",
       "      <th>North America</th>\n",
       "      <th>Europe</th>\n",
       "      <th>Japan</th>\n",
       "      <th>Rest of World</th>\n",
       "      <th>Global</th>\n",
       "    </tr>\n",
       "    <tr>\n",
       "      <th>Game_ID</th>\n",
       "      <th></th>\n",
       "      <th></th>\n",
       "      <th></th>\n",
       "      <th></th>\n",
       "      <th></th>\n",
       "      <th></th>\n",
       "      <th></th>\n",
       "      <th></th>\n",
       "      <th></th>\n",
       "    </tr>\n",
       "  </thead>\n",
       "  <tbody>\n",
       "    <tr>\n",
       "      <th>0</th>\n",
       "      <td>Grand Theft Auto V</td>\n",
       "      <td>2014.0</td>\n",
       "      <td>Action</td>\n",
       "      <td>Rockstar Games</td>\n",
       "      <td>6.06</td>\n",
       "      <td>9.71</td>\n",
       "      <td>0.60</td>\n",
       "      <td>3.02</td>\n",
       "      <td>19.39</td>\n",
       "    </tr>\n",
       "    <tr>\n",
       "      <th>1</th>\n",
       "      <td>Call of Duty: Black Ops 3</td>\n",
       "      <td>2015.0</td>\n",
       "      <td>Shooter</td>\n",
       "      <td>Activision</td>\n",
       "      <td>6.18</td>\n",
       "      <td>6.05</td>\n",
       "      <td>0.41</td>\n",
       "      <td>2.44</td>\n",
       "      <td>15.09</td>\n",
       "    </tr>\n",
       "    <tr>\n",
       "      <th>2</th>\n",
       "      <td>Red Dead Redemption 2</td>\n",
       "      <td>2018.0</td>\n",
       "      <td>Action-Adventure</td>\n",
       "      <td>Rockstar Games</td>\n",
       "      <td>5.26</td>\n",
       "      <td>6.21</td>\n",
       "      <td>0.21</td>\n",
       "      <td>2.26</td>\n",
       "      <td>13.94</td>\n",
       "    </tr>\n",
       "    <tr>\n",
       "      <th>3</th>\n",
       "      <td>Call of Duty: WWII</td>\n",
       "      <td>2017.0</td>\n",
       "      <td>Shooter</td>\n",
       "      <td>Activision</td>\n",
       "      <td>4.67</td>\n",
       "      <td>6.21</td>\n",
       "      <td>0.40</td>\n",
       "      <td>2.12</td>\n",
       "      <td>13.40</td>\n",
       "    </tr>\n",
       "    <tr>\n",
       "      <th>4</th>\n",
       "      <td>FIFA 18</td>\n",
       "      <td>2017.0</td>\n",
       "      <td>Sports</td>\n",
       "      <td>EA Sports</td>\n",
       "      <td>1.27</td>\n",
       "      <td>8.64</td>\n",
       "      <td>0.15</td>\n",
       "      <td>1.73</td>\n",
       "      <td>11.80</td>\n",
       "    </tr>\n",
       "  </tbody>\n",
       "</table>\n",
       "</div>"
      ],
      "text/plain": [
       "                              Game    Year             Genre       Publisher  \\\n",
       "Game_ID                                                                        \n",
       "0               Grand Theft Auto V  2014.0            Action  Rockstar Games   \n",
       "1        Call of Duty: Black Ops 3  2015.0           Shooter      Activision   \n",
       "2            Red Dead Redemption 2  2018.0  Action-Adventure  Rockstar Games   \n",
       "3               Call of Duty: WWII  2017.0           Shooter      Activision   \n",
       "4                          FIFA 18  2017.0            Sports       EA Sports   \n",
       "\n",
       "         North America  Europe  Japan  Rest of World  Global  \n",
       "Game_ID                                                       \n",
       "0                 6.06    9.71   0.60           3.02   19.39  \n",
       "1                 6.18    6.05   0.41           2.44   15.09  \n",
       "2                 5.26    6.21   0.21           2.26   13.94  \n",
       "3                 4.67    6.21   0.40           2.12   13.40  \n",
       "4                 1.27    8.64   0.15           1.73   11.80  "
      ]
     },
     "execution_count": 5,
     "metadata": {},
     "output_type": "execute_result"
    }
   ],
   "source": [
    "data_ps4 = data_ps4.set_index('Game_ID')\n",
    "data_ps4.head()"
   ]
  },
  {
   "cell_type": "markdown",
   "id": "3a01fd77",
   "metadata": {
    "id": "3a01fd77",
    "papermill": {
     "duration": 0.017265,
     "end_time": "2022-10-18T21:44:10.696757",
     "exception": false,
     "start_time": "2022-10-18T21:44:10.679492",
     "status": "completed"
    },
    "tags": []
   },
   "source": [
    "Game IDs are added for each unique title"
   ]
  },
  {
   "cell_type": "code",
   "execution_count": 6,
   "id": "38fe12ca",
   "metadata": {
    "_kg_hide-output": true,
    "colab": {
     "base_uri": "https://localhost:8080/"
    },
    "execution": {
     "iopub.execute_input": "2022-10-18T21:44:10.730482Z",
     "iopub.status.busy": "2022-10-18T21:44:10.729669Z",
     "iopub.status.idle": "2022-10-18T21:44:12.180116Z",
     "shell.execute_reply": "2022-10-18T21:44:12.179206Z"
    },
    "executionInfo": {
     "elapsed": 2426,
     "status": "ok",
     "timestamp": 1688424224091,
     "user": {
      "displayName": "amirthan mahindan",
      "userId": "09203620967699906811"
     },
     "user_tz": -60
    },
    "id": "38fe12ca",
    "outputId": "43546f3d-a8af-4505-9fda-bbea0025eccf",
    "papermill": {
     "duration": 1.470168,
     "end_time": "2022-10-18T21:44:12.182850",
     "exception": false,
     "start_time": "2022-10-18T21:44:10.712682",
     "status": "completed"
    },
    "tags": []
   },
   "outputs": [
    {
     "name": "stderr",
     "output_type": "stream",
     "text": [
      "C:\\Users\\amirt\\AppData\\Local\\Temp/ipykernel_22356/3034941544.py:4: UserWarning: This pattern has match groups. To actually get the groups, use str.extract.\n",
      "  if data_ps4['Game'].str.contains(game_name).any():\n"
     ]
    }
   ],
   "source": [
    "game_ids = list()\n",
    "\n",
    "for i, game_name in enumerate(data_xbox['Game']):\n",
    "  if data_ps4['Game'].str.contains(game_name).any():\n",
    "    game_id = data_ps4.query('Game == \"%s\"' % game_name).index\n",
    "\n",
    "    if len(game_id) == 0:\n",
    "      game_id = len(data_ps4) + i + 1\n",
    "    else:\n",
    "      game_id = game_id[0]\n",
    "\n",
    "  else:\n",
    "    game_id = len(data_ps4) + i + 1\n",
    "\n",
    "  game_ids.append(game_id)"
   ]
  },
  {
   "cell_type": "code",
   "execution_count": 7,
   "id": "818ae371",
   "metadata": {
    "execution": {
     "iopub.execute_input": "2022-10-18T21:44:12.215995Z",
     "iopub.status.busy": "2022-10-18T21:44:12.215329Z",
     "iopub.status.idle": "2022-10-18T21:44:12.220998Z",
     "shell.execute_reply": "2022-10-18T21:44:12.220188Z"
    },
    "executionInfo": {
     "elapsed": 38,
     "status": "ok",
     "timestamp": 1688424224093,
     "user": {
      "displayName": "amirthan mahindan",
      "userId": "09203620967699906811"
     },
     "user_tz": -60
    },
    "id": "818ae371",
    "papermill": {
     "duration": 0.024644,
     "end_time": "2022-10-18T21:44:12.223092",
     "exception": false,
     "start_time": "2022-10-18T21:44:12.198448",
     "status": "completed"
    },
    "tags": []
   },
   "outputs": [],
   "source": [
    "data_xbox.insert(0, 'Game_ID', game_ids)"
   ]
  },
  {
   "cell_type": "code",
   "execution_count": 8,
   "id": "443d6f13",
   "metadata": {
    "colab": {
     "base_uri": "https://localhost:8080/",
     "height": 0
    },
    "execution": {
     "iopub.execute_input": "2022-10-18T21:44:12.257707Z",
     "iopub.status.busy": "2022-10-18T21:44:12.257012Z",
     "iopub.status.idle": "2022-10-18T21:44:12.277836Z",
     "shell.execute_reply": "2022-10-18T21:44:12.276790Z"
    },
    "executionInfo": {
     "elapsed": 37,
     "status": "ok",
     "timestamp": 1688424224094,
     "user": {
      "displayName": "amirthan mahindan",
      "userId": "09203620967699906811"
     },
     "user_tz": -60
    },
    "id": "443d6f13",
    "outputId": "ce68912b-dc94-49c1-e27a-95476f698614",
    "papermill": {
     "duration": 0.040903,
     "end_time": "2022-10-18T21:44:12.280152",
     "exception": false,
     "start_time": "2022-10-18T21:44:12.239249",
     "status": "completed"
    },
    "tags": []
   },
   "outputs": [
    {
     "data": {
      "text/html": [
       "<div>\n",
       "<style scoped>\n",
       "    .dataframe tbody tr th:only-of-type {\n",
       "        vertical-align: middle;\n",
       "    }\n",
       "\n",
       "    .dataframe tbody tr th {\n",
       "        vertical-align: top;\n",
       "    }\n",
       "\n",
       "    .dataframe thead th {\n",
       "        text-align: right;\n",
       "    }\n",
       "</style>\n",
       "<table border=\"1\" class=\"dataframe\">\n",
       "  <thead>\n",
       "    <tr style=\"text-align: right;\">\n",
       "      <th></th>\n",
       "      <th>Game</th>\n",
       "      <th>Year</th>\n",
       "      <th>Genre</th>\n",
       "      <th>Publisher</th>\n",
       "      <th>North America</th>\n",
       "      <th>Europe</th>\n",
       "      <th>Japan</th>\n",
       "      <th>Rest of World</th>\n",
       "      <th>Global</th>\n",
       "    </tr>\n",
       "    <tr>\n",
       "      <th>Game_ID</th>\n",
       "      <th></th>\n",
       "      <th></th>\n",
       "      <th></th>\n",
       "      <th></th>\n",
       "      <th></th>\n",
       "      <th></th>\n",
       "      <th></th>\n",
       "      <th></th>\n",
       "      <th></th>\n",
       "    </tr>\n",
       "  </thead>\n",
       "  <tbody>\n",
       "    <tr>\n",
       "      <th>0</th>\n",
       "      <td>Grand Theft Auto V</td>\n",
       "      <td>2014.0</td>\n",
       "      <td>Action</td>\n",
       "      <td>Rockstar Games</td>\n",
       "      <td>4.70</td>\n",
       "      <td>3.25</td>\n",
       "      <td>0.01</td>\n",
       "      <td>0.76</td>\n",
       "      <td>8.72</td>\n",
       "    </tr>\n",
       "    <tr>\n",
       "      <th>1</th>\n",
       "      <td>Call of Duty: Black Ops 3</td>\n",
       "      <td>2015.0</td>\n",
       "      <td>Shooter</td>\n",
       "      <td>Activision</td>\n",
       "      <td>4.63</td>\n",
       "      <td>2.04</td>\n",
       "      <td>0.02</td>\n",
       "      <td>0.68</td>\n",
       "      <td>7.37</td>\n",
       "    </tr>\n",
       "    <tr>\n",
       "      <th>3</th>\n",
       "      <td>Call of Duty: WWII</td>\n",
       "      <td>2017.0</td>\n",
       "      <td>Shooter</td>\n",
       "      <td>Activision</td>\n",
       "      <td>3.75</td>\n",
       "      <td>1.91</td>\n",
       "      <td>0.00</td>\n",
       "      <td>0.57</td>\n",
       "      <td>6.23</td>\n",
       "    </tr>\n",
       "    <tr>\n",
       "      <th>2</th>\n",
       "      <td>Red Dead Redemption 2</td>\n",
       "      <td>2018.0</td>\n",
       "      <td>Action-Adventure</td>\n",
       "      <td>Rockstar Games</td>\n",
       "      <td>3.76</td>\n",
       "      <td>1.47</td>\n",
       "      <td>0.00</td>\n",
       "      <td>0.54</td>\n",
       "      <td>5.77</td>\n",
       "    </tr>\n",
       "    <tr>\n",
       "      <th>15</th>\n",
       "      <td>MineCraft</td>\n",
       "      <td>2014.0</td>\n",
       "      <td>Misc</td>\n",
       "      <td>Microsoft Studios</td>\n",
       "      <td>3.23</td>\n",
       "      <td>1.71</td>\n",
       "      <td>0.00</td>\n",
       "      <td>0.49</td>\n",
       "      <td>5.43</td>\n",
       "    </tr>\n",
       "  </tbody>\n",
       "</table>\n",
       "</div>"
      ],
      "text/plain": [
       "                              Game    Year             Genre  \\\n",
       "Game_ID                                                        \n",
       "0               Grand Theft Auto V  2014.0            Action   \n",
       "1        Call of Duty: Black Ops 3  2015.0           Shooter   \n",
       "3               Call of Duty: WWII  2017.0           Shooter   \n",
       "2            Red Dead Redemption 2  2018.0  Action-Adventure   \n",
       "15                       MineCraft  2014.0              Misc   \n",
       "\n",
       "                 Publisher  North America  Europe  Japan  Rest of World  \\\n",
       "Game_ID                                                                   \n",
       "0           Rockstar Games           4.70    3.25   0.01           0.76   \n",
       "1               Activision           4.63    2.04   0.02           0.68   \n",
       "3               Activision           3.75    1.91   0.00           0.57   \n",
       "2           Rockstar Games           3.76    1.47   0.00           0.54   \n",
       "15       Microsoft Studios           3.23    1.71   0.00           0.49   \n",
       "\n",
       "         Global  \n",
       "Game_ID          \n",
       "0          8.72  \n",
       "1          7.37  \n",
       "3          6.23  \n",
       "2          5.77  \n",
       "15         5.43  "
      ]
     },
     "execution_count": 8,
     "metadata": {},
     "output_type": "execute_result"
    }
   ],
   "source": [
    "data_xbox = data_xbox.set_index('Game_ID')\n",
    "data_xbox = data_xbox.drop('Pos', axis=1)\n",
    "data_xbox.head()"
   ]
  },
  {
   "cell_type": "code",
   "execution_count": 9,
   "id": "63a9bed8",
   "metadata": {
    "execution": {
     "iopub.execute_input": "2022-10-18T21:44:12.314118Z",
     "iopub.status.busy": "2022-10-18T21:44:12.313715Z",
     "iopub.status.idle": "2022-10-18T21:44:12.328153Z",
     "shell.execute_reply": "2022-10-18T21:44:12.327242Z"
    },
    "executionInfo": {
     "elapsed": 34,
     "status": "ok",
     "timestamp": 1688424224096,
     "user": {
      "displayName": "amirthan mahindan",
      "userId": "09203620967699906811"
     },
     "user_tz": -60
    },
    "id": "63a9bed8",
    "papermill": {
     "duration": 0.034342,
     "end_time": "2022-10-18T21:44:12.330592",
     "exception": false,
     "start_time": "2022-10-18T21:44:12.296250",
     "status": "completed"
    },
    "tags": []
   },
   "outputs": [],
   "source": [
    "data_all = data_ps4.join(data_xbox[['North America', 'Europe', 'Japan', 'Rest of World', 'Global']], how = 'inner', rsuffix='_xbox', lsuffix = '_ps4')"
   ]
  },
  {
   "cell_type": "code",
   "execution_count": 10,
   "id": "66295405",
   "metadata": {
    "execution": {
     "iopub.execute_input": "2022-10-18T21:44:12.464186Z",
     "iopub.status.busy": "2022-10-18T21:44:12.463005Z",
     "iopub.status.idle": "2022-10-18T21:44:12.469140Z",
     "shell.execute_reply": "2022-10-18T21:44:12.468138Z"
    },
    "executionInfo": {
     "elapsed": 339,
     "status": "ok",
     "timestamp": 1688424224402,
     "user": {
      "displayName": "amirthan mahindan",
      "userId": "09203620967699906811"
     },
     "user_tz": -60
    },
    "id": "66295405",
    "papermill": {
     "duration": 0.026327,
     "end_time": "2022-10-18T21:44:12.471364",
     "exception": false,
     "start_time": "2022-10-18T21:44:12.445037",
     "status": "completed"
    },
    "tags": []
   },
   "outputs": [],
   "source": [
    "data_all['Global'] = data_all['Global_ps4'] + data_all['Global_xbox']"
   ]
  },
  {
   "cell_type": "code",
   "execution_count": 11,
   "id": "2548bfde",
   "metadata": {
    "colab": {
     "base_uri": "https://localhost:8080/"
    },
    "execution": {
     "iopub.execute_input": "2022-10-18T21:44:12.506101Z",
     "iopub.status.busy": "2022-10-18T21:44:12.505660Z",
     "iopub.status.idle": "2022-10-18T21:44:12.516170Z",
     "shell.execute_reply": "2022-10-18T21:44:12.515123Z"
    },
    "executionInfo": {
     "elapsed": 21,
     "status": "ok",
     "timestamp": 1688424224402,
     "user": {
      "displayName": "amirthan mahindan",
      "userId": "09203620967699906811"
     },
     "user_tz": -60
    },
    "id": "2548bfde",
    "outputId": "6c7bb04b-fb96-4497-e5c7-69dca976498b",
    "papermill": {
     "duration": 0.03044,
     "end_time": "2022-10-18T21:44:12.518351",
     "exception": false,
     "start_time": "2022-10-18T21:44:12.487911",
     "status": "completed"
    },
    "tags": []
   },
   "outputs": [
    {
     "data": {
      "text/plain": [
       "Game                   0\n",
       "Year                  58\n",
       "Genre                  0\n",
       "Publisher             58\n",
       "North America_ps4      0\n",
       "Europe_ps4             0\n",
       "Japan_ps4              0\n",
       "Rest of World_ps4      0\n",
       "Global_ps4             0\n",
       "North America_xbox     0\n",
       "Europe_xbox            0\n",
       "Japan_xbox             0\n",
       "Rest of World_xbox     0\n",
       "Global_xbox            0\n",
       "Global                 0\n",
       "dtype: int64"
      ]
     },
     "execution_count": 11,
     "metadata": {},
     "output_type": "execute_result"
    }
   ],
   "source": [
    "data_all.isnull().sum()"
   ]
  },
  {
   "cell_type": "code",
   "execution_count": 12,
   "id": "2680b1ba",
   "metadata": {
    "execution": {
     "iopub.execute_input": "2022-10-18T21:44:12.554260Z",
     "iopub.status.busy": "2022-10-18T21:44:12.553862Z",
     "iopub.status.idle": "2022-10-18T21:44:12.563644Z",
     "shell.execute_reply": "2022-10-18T21:44:12.562667Z"
    },
    "executionInfo": {
     "elapsed": 21,
     "status": "ok",
     "timestamp": 1688424224403,
     "user": {
      "displayName": "amirthan mahindan",
      "userId": "09203620967699906811"
     },
     "user_tz": -60
    },
    "id": "2680b1ba",
    "papermill": {
     "duration": 0.031028,
     "end_time": "2022-10-18T21:44:12.566008",
     "exception": false,
     "start_time": "2022-10-18T21:44:12.534980",
     "status": "completed"
    },
    "tags": []
   },
   "outputs": [],
   "source": [
    "data_all = data_all.drop(['Publisher'], axis = 1)\n",
    "data_all = data_all.fillna(method='ffill')"
   ]
  },
  {
   "cell_type": "code",
   "execution_count": 13,
   "id": "b302ef6f",
   "metadata": {
    "colab": {
     "base_uri": "https://localhost:8080/",
     "height": 0
    },
    "execution": {
     "iopub.execute_input": "2022-10-18T21:44:12.600569Z",
     "iopub.status.busy": "2022-10-18T21:44:12.600195Z",
     "iopub.status.idle": "2022-10-18T21:44:12.627732Z",
     "shell.execute_reply": "2022-10-18T21:44:12.626008Z"
    },
    "executionInfo": {
     "elapsed": 20,
     "status": "ok",
     "timestamp": 1688424224403,
     "user": {
      "displayName": "amirthan mahindan",
      "userId": "09203620967699906811"
     },
     "user_tz": -60
    },
    "id": "b302ef6f",
    "outputId": "62a4f710-1315-400b-e0d0-f8cb9dbb419a",
    "papermill": {
     "duration": 0.047969,
     "end_time": "2022-10-18T21:44:12.630402",
     "exception": false,
     "start_time": "2022-10-18T21:44:12.582433",
     "status": "completed"
    },
    "tags": []
   },
   "outputs": [
    {
     "name": "stdout",
     "output_type": "stream",
     "text": [
      "Game                  0\n",
      "Year                  0\n",
      "Genre                 0\n",
      "North America_ps4     0\n",
      "Europe_ps4            0\n",
      "Japan_ps4             0\n",
      "Rest of World_ps4     0\n",
      "Global_ps4            0\n",
      "North America_xbox    0\n",
      "Europe_xbox           0\n",
      "Japan_xbox            0\n",
      "Rest of World_xbox    0\n",
      "Global_xbox           0\n",
      "Global                0\n",
      "dtype: int64\n"
     ]
    },
    {
     "data": {
      "text/html": [
       "<div>\n",
       "<style scoped>\n",
       "    .dataframe tbody tr th:only-of-type {\n",
       "        vertical-align: middle;\n",
       "    }\n",
       "\n",
       "    .dataframe tbody tr th {\n",
       "        vertical-align: top;\n",
       "    }\n",
       "\n",
       "    .dataframe thead th {\n",
       "        text-align: right;\n",
       "    }\n",
       "</style>\n",
       "<table border=\"1\" class=\"dataframe\">\n",
       "  <thead>\n",
       "    <tr style=\"text-align: right;\">\n",
       "      <th></th>\n",
       "      <th>Game</th>\n",
       "      <th>Year</th>\n",
       "      <th>Genre</th>\n",
       "      <th>North America_ps4</th>\n",
       "      <th>Europe_ps4</th>\n",
       "      <th>Japan_ps4</th>\n",
       "      <th>Rest of World_ps4</th>\n",
       "      <th>Global_ps4</th>\n",
       "      <th>North America_xbox</th>\n",
       "      <th>Europe_xbox</th>\n",
       "      <th>Japan_xbox</th>\n",
       "      <th>Rest of World_xbox</th>\n",
       "      <th>Global_xbox</th>\n",
       "      <th>Global</th>\n",
       "    </tr>\n",
       "    <tr>\n",
       "      <th>Game_ID</th>\n",
       "      <th></th>\n",
       "      <th></th>\n",
       "      <th></th>\n",
       "      <th></th>\n",
       "      <th></th>\n",
       "      <th></th>\n",
       "      <th></th>\n",
       "      <th></th>\n",
       "      <th></th>\n",
       "      <th></th>\n",
       "      <th></th>\n",
       "      <th></th>\n",
       "      <th></th>\n",
       "      <th></th>\n",
       "    </tr>\n",
       "  </thead>\n",
       "  <tbody>\n",
       "    <tr>\n",
       "      <th>0</th>\n",
       "      <td>Grand Theft Auto V</td>\n",
       "      <td>2014.0</td>\n",
       "      <td>Action</td>\n",
       "      <td>6.06</td>\n",
       "      <td>9.71</td>\n",
       "      <td>0.60</td>\n",
       "      <td>3.02</td>\n",
       "      <td>19.39</td>\n",
       "      <td>4.70</td>\n",
       "      <td>3.25</td>\n",
       "      <td>0.01</td>\n",
       "      <td>0.76</td>\n",
       "      <td>8.72</td>\n",
       "      <td>28.11</td>\n",
       "    </tr>\n",
       "    <tr>\n",
       "      <th>1</th>\n",
       "      <td>Call of Duty: Black Ops 3</td>\n",
       "      <td>2015.0</td>\n",
       "      <td>Shooter</td>\n",
       "      <td>6.18</td>\n",
       "      <td>6.05</td>\n",
       "      <td>0.41</td>\n",
       "      <td>2.44</td>\n",
       "      <td>15.09</td>\n",
       "      <td>4.63</td>\n",
       "      <td>2.04</td>\n",
       "      <td>0.02</td>\n",
       "      <td>0.68</td>\n",
       "      <td>7.37</td>\n",
       "      <td>22.46</td>\n",
       "    </tr>\n",
       "    <tr>\n",
       "      <th>2</th>\n",
       "      <td>Red Dead Redemption 2</td>\n",
       "      <td>2018.0</td>\n",
       "      <td>Action-Adventure</td>\n",
       "      <td>5.26</td>\n",
       "      <td>6.21</td>\n",
       "      <td>0.21</td>\n",
       "      <td>2.26</td>\n",
       "      <td>13.94</td>\n",
       "      <td>3.76</td>\n",
       "      <td>1.47</td>\n",
       "      <td>0.00</td>\n",
       "      <td>0.54</td>\n",
       "      <td>5.77</td>\n",
       "      <td>19.71</td>\n",
       "    </tr>\n",
       "    <tr>\n",
       "      <th>3</th>\n",
       "      <td>Call of Duty: WWII</td>\n",
       "      <td>2017.0</td>\n",
       "      <td>Shooter</td>\n",
       "      <td>4.67</td>\n",
       "      <td>6.21</td>\n",
       "      <td>0.40</td>\n",
       "      <td>2.12</td>\n",
       "      <td>13.40</td>\n",
       "      <td>3.75</td>\n",
       "      <td>1.91</td>\n",
       "      <td>0.00</td>\n",
       "      <td>0.57</td>\n",
       "      <td>6.23</td>\n",
       "      <td>19.63</td>\n",
       "    </tr>\n",
       "    <tr>\n",
       "      <th>4</th>\n",
       "      <td>FIFA 18</td>\n",
       "      <td>2017.0</td>\n",
       "      <td>Sports</td>\n",
       "      <td>1.27</td>\n",
       "      <td>8.64</td>\n",
       "      <td>0.15</td>\n",
       "      <td>1.73</td>\n",
       "      <td>11.80</td>\n",
       "      <td>0.98</td>\n",
       "      <td>1.92</td>\n",
       "      <td>0.00</td>\n",
       "      <td>0.23</td>\n",
       "      <td>3.14</td>\n",
       "      <td>14.94</td>\n",
       "    </tr>\n",
       "  </tbody>\n",
       "</table>\n",
       "</div>"
      ],
      "text/plain": [
       "                              Game    Year             Genre  \\\n",
       "Game_ID                                                        \n",
       "0               Grand Theft Auto V  2014.0            Action   \n",
       "1        Call of Duty: Black Ops 3  2015.0           Shooter   \n",
       "2            Red Dead Redemption 2  2018.0  Action-Adventure   \n",
       "3               Call of Duty: WWII  2017.0           Shooter   \n",
       "4                          FIFA 18  2017.0            Sports   \n",
       "\n",
       "         North America_ps4  Europe_ps4  Japan_ps4  Rest of World_ps4  \\\n",
       "Game_ID                                                                \n",
       "0                     6.06        9.71       0.60               3.02   \n",
       "1                     6.18        6.05       0.41               2.44   \n",
       "2                     5.26        6.21       0.21               2.26   \n",
       "3                     4.67        6.21       0.40               2.12   \n",
       "4                     1.27        8.64       0.15               1.73   \n",
       "\n",
       "         Global_ps4  North America_xbox  Europe_xbox  Japan_xbox  \\\n",
       "Game_ID                                                            \n",
       "0             19.39                4.70         3.25        0.01   \n",
       "1             15.09                4.63         2.04        0.02   \n",
       "2             13.94                3.76         1.47        0.00   \n",
       "3             13.40                3.75         1.91        0.00   \n",
       "4             11.80                0.98         1.92        0.00   \n",
       "\n",
       "         Rest of World_xbox  Global_xbox  Global  \n",
       "Game_ID                                           \n",
       "0                      0.76         8.72   28.11  \n",
       "1                      0.68         7.37   22.46  \n",
       "2                      0.54         5.77   19.71  \n",
       "3                      0.57         6.23   19.63  \n",
       "4                      0.23         3.14   14.94  "
      ]
     },
     "execution_count": 13,
     "metadata": {},
     "output_type": "execute_result"
    }
   ],
   "source": [
    "print(data_all.isnull().sum())\n",
    "data_all.head()"
   ]
  },
  {
   "cell_type": "code",
   "execution_count": 14,
   "id": "l3WlqhhUVek2",
   "metadata": {
    "executionInfo": {
     "elapsed": 19,
     "status": "ok",
     "timestamp": 1688424224404,
     "user": {
      "displayName": "amirthan mahindan",
      "userId": "09203620967699906811"
     },
     "user_tz": -60
    },
    "id": "l3WlqhhUVek2"
   },
   "outputs": [],
   "source": [
    "data_all = data_all.rename(columns={'Global': 'Global_Total'})"
   ]
  },
  {
   "cell_type": "code",
   "execution_count": 15,
   "id": "wUm0Dm55ZD4V",
   "metadata": {
    "executionInfo": {
     "elapsed": 18,
     "status": "ok",
     "timestamp": 1688424224404,
     "user": {
      "displayName": "amirthan mahindan",
      "userId": "09203620967699906811"
     },
     "user_tz": -60
    },
    "id": "wUm0Dm55ZD4V"
   },
   "outputs": [],
   "source": [
    "data_all['Year'] = data_all['Year'].astype(int)"
   ]
  },
  {
   "cell_type": "code",
   "execution_count": 16,
   "id": "LhCLN8bEZe3j",
   "metadata": {
    "executionInfo": {
     "elapsed": 18,
     "status": "ok",
     "timestamp": 1688424224405,
     "user": {
      "displayName": "amirthan mahindan",
      "userId": "09203620967699906811"
     },
     "user_tz": -60
    },
    "id": "LhCLN8bEZe3j"
   },
   "outputs": [],
   "source": [
    "data_all= data_all.drop_duplicates()"
   ]
  },
  {
   "cell_type": "code",
   "execution_count": 17,
   "id": "4fN5iKECZw7A",
   "metadata": {
    "colab": {
     "base_uri": "https://localhost:8080/",
     "height": 0
    },
    "executionInfo": {
     "elapsed": 18,
     "status": "ok",
     "timestamp": 1688424224405,
     "user": {
      "displayName": "amirthan mahindan",
      "userId": "09203620967699906811"
     },
     "user_tz": -60
    },
    "id": "4fN5iKECZw7A",
    "outputId": "22282c31-1309-40c8-8467-07e9685b5620"
   },
   "outputs": [
    {
     "data": {
      "text/html": [
       "<div>\n",
       "<style scoped>\n",
       "    .dataframe tbody tr th:only-of-type {\n",
       "        vertical-align: middle;\n",
       "    }\n",
       "\n",
       "    .dataframe tbody tr th {\n",
       "        vertical-align: top;\n",
       "    }\n",
       "\n",
       "    .dataframe thead th {\n",
       "        text-align: right;\n",
       "    }\n",
       "</style>\n",
       "<table border=\"1\" class=\"dataframe\">\n",
       "  <thead>\n",
       "    <tr style=\"text-align: right;\">\n",
       "      <th></th>\n",
       "      <th>Game</th>\n",
       "      <th>Year</th>\n",
       "      <th>Genre</th>\n",
       "      <th>North America_ps4</th>\n",
       "      <th>Europe_ps4</th>\n",
       "      <th>Japan_ps4</th>\n",
       "      <th>Rest of World_ps4</th>\n",
       "      <th>Global_ps4</th>\n",
       "      <th>North America_xbox</th>\n",
       "      <th>Europe_xbox</th>\n",
       "      <th>Japan_xbox</th>\n",
       "      <th>Rest of World_xbox</th>\n",
       "      <th>Global_xbox</th>\n",
       "      <th>Global_Total</th>\n",
       "    </tr>\n",
       "    <tr>\n",
       "      <th>Game_ID</th>\n",
       "      <th></th>\n",
       "      <th></th>\n",
       "      <th></th>\n",
       "      <th></th>\n",
       "      <th></th>\n",
       "      <th></th>\n",
       "      <th></th>\n",
       "      <th></th>\n",
       "      <th></th>\n",
       "      <th></th>\n",
       "      <th></th>\n",
       "      <th></th>\n",
       "      <th></th>\n",
       "      <th></th>\n",
       "    </tr>\n",
       "  </thead>\n",
       "  <tbody>\n",
       "    <tr>\n",
       "      <th>0</th>\n",
       "      <td>Grand Theft Auto V</td>\n",
       "      <td>2014</td>\n",
       "      <td>Action</td>\n",
       "      <td>6.06</td>\n",
       "      <td>9.71</td>\n",
       "      <td>0.60</td>\n",
       "      <td>3.02</td>\n",
       "      <td>19.39</td>\n",
       "      <td>4.70</td>\n",
       "      <td>3.25</td>\n",
       "      <td>0.01</td>\n",
       "      <td>0.76</td>\n",
       "      <td>8.72</td>\n",
       "      <td>28.11</td>\n",
       "    </tr>\n",
       "    <tr>\n",
       "      <th>1</th>\n",
       "      <td>Call of Duty: Black Ops 3</td>\n",
       "      <td>2015</td>\n",
       "      <td>Shooter</td>\n",
       "      <td>6.18</td>\n",
       "      <td>6.05</td>\n",
       "      <td>0.41</td>\n",
       "      <td>2.44</td>\n",
       "      <td>15.09</td>\n",
       "      <td>4.63</td>\n",
       "      <td>2.04</td>\n",
       "      <td>0.02</td>\n",
       "      <td>0.68</td>\n",
       "      <td>7.37</td>\n",
       "      <td>22.46</td>\n",
       "    </tr>\n",
       "    <tr>\n",
       "      <th>2</th>\n",
       "      <td>Red Dead Redemption 2</td>\n",
       "      <td>2018</td>\n",
       "      <td>Action-Adventure</td>\n",
       "      <td>5.26</td>\n",
       "      <td>6.21</td>\n",
       "      <td>0.21</td>\n",
       "      <td>2.26</td>\n",
       "      <td>13.94</td>\n",
       "      <td>3.76</td>\n",
       "      <td>1.47</td>\n",
       "      <td>0.00</td>\n",
       "      <td>0.54</td>\n",
       "      <td>5.77</td>\n",
       "      <td>19.71</td>\n",
       "    </tr>\n",
       "    <tr>\n",
       "      <th>3</th>\n",
       "      <td>Call of Duty: WWII</td>\n",
       "      <td>2017</td>\n",
       "      <td>Shooter</td>\n",
       "      <td>4.67</td>\n",
       "      <td>6.21</td>\n",
       "      <td>0.40</td>\n",
       "      <td>2.12</td>\n",
       "      <td>13.40</td>\n",
       "      <td>3.75</td>\n",
       "      <td>1.91</td>\n",
       "      <td>0.00</td>\n",
       "      <td>0.57</td>\n",
       "      <td>6.23</td>\n",
       "      <td>19.63</td>\n",
       "    </tr>\n",
       "    <tr>\n",
       "      <th>4</th>\n",
       "      <td>FIFA 18</td>\n",
       "      <td>2017</td>\n",
       "      <td>Sports</td>\n",
       "      <td>1.27</td>\n",
       "      <td>8.64</td>\n",
       "      <td>0.15</td>\n",
       "      <td>1.73</td>\n",
       "      <td>11.80</td>\n",
       "      <td>0.98</td>\n",
       "      <td>1.92</td>\n",
       "      <td>0.00</td>\n",
       "      <td>0.23</td>\n",
       "      <td>3.14</td>\n",
       "      <td>14.94</td>\n",
       "    </tr>\n",
       "    <tr>\n",
       "      <th>...</th>\n",
       "      <td>...</td>\n",
       "      <td>...</td>\n",
       "      <td>...</td>\n",
       "      <td>...</td>\n",
       "      <td>...</td>\n",
       "      <td>...</td>\n",
       "      <td>...</td>\n",
       "      <td>...</td>\n",
       "      <td>...</td>\n",
       "      <td>...</td>\n",
       "      <td>...</td>\n",
       "      <td>...</td>\n",
       "      <td>...</td>\n",
       "      <td>...</td>\n",
       "    </tr>\n",
       "    <tr>\n",
       "      <th>1022</th>\n",
       "      <td>Moons Of Madness</td>\n",
       "      <td>2017</td>\n",
       "      <td>Role-Playing</td>\n",
       "      <td>0.00</td>\n",
       "      <td>0.00</td>\n",
       "      <td>0.00</td>\n",
       "      <td>0.00</td>\n",
       "      <td>0.00</td>\n",
       "      <td>0.00</td>\n",
       "      <td>0.00</td>\n",
       "      <td>0.00</td>\n",
       "      <td>0.00</td>\n",
       "      <td>0.00</td>\n",
       "      <td>0.00</td>\n",
       "    </tr>\n",
       "    <tr>\n",
       "      <th>1023</th>\n",
       "      <td>Iron Harvest</td>\n",
       "      <td>2018</td>\n",
       "      <td>Strategy</td>\n",
       "      <td>0.00</td>\n",
       "      <td>0.00</td>\n",
       "      <td>0.00</td>\n",
       "      <td>0.00</td>\n",
       "      <td>0.00</td>\n",
       "      <td>0.00</td>\n",
       "      <td>0.00</td>\n",
       "      <td>0.00</td>\n",
       "      <td>0.00</td>\n",
       "      <td>0.00</td>\n",
       "      <td>0.00</td>\n",
       "    </tr>\n",
       "    <tr>\n",
       "      <th>1024</th>\n",
       "      <td>Biomutant</td>\n",
       "      <td>2018</td>\n",
       "      <td>Action</td>\n",
       "      <td>0.00</td>\n",
       "      <td>0.00</td>\n",
       "      <td>0.00</td>\n",
       "      <td>0.00</td>\n",
       "      <td>0.00</td>\n",
       "      <td>0.00</td>\n",
       "      <td>0.00</td>\n",
       "      <td>0.00</td>\n",
       "      <td>0.00</td>\n",
       "      <td>0.00</td>\n",
       "      <td>0.00</td>\n",
       "    </tr>\n",
       "    <tr>\n",
       "      <th>1026</th>\n",
       "      <td>de Blob</td>\n",
       "      <td>2017</td>\n",
       "      <td>Platform</td>\n",
       "      <td>0.00</td>\n",
       "      <td>0.00</td>\n",
       "      <td>0.00</td>\n",
       "      <td>0.00</td>\n",
       "      <td>0.00</td>\n",
       "      <td>0.00</td>\n",
       "      <td>0.00</td>\n",
       "      <td>0.00</td>\n",
       "      <td>0.00</td>\n",
       "      <td>0.00</td>\n",
       "      <td>0.00</td>\n",
       "    </tr>\n",
       "    <tr>\n",
       "      <th>1028</th>\n",
       "      <td>Code Vein</td>\n",
       "      <td>2018</td>\n",
       "      <td>Action</td>\n",
       "      <td>0.00</td>\n",
       "      <td>0.00</td>\n",
       "      <td>0.00</td>\n",
       "      <td>0.00</td>\n",
       "      <td>0.00</td>\n",
       "      <td>0.00</td>\n",
       "      <td>0.00</td>\n",
       "      <td>0.00</td>\n",
       "      <td>0.00</td>\n",
       "      <td>0.00</td>\n",
       "      <td>0.00</td>\n",
       "    </tr>\n",
       "  </tbody>\n",
       "</table>\n",
       "<p>496 rows × 14 columns</p>\n",
       "</div>"
      ],
      "text/plain": [
       "                              Game  Year             Genre  North America_ps4  \\\n",
       "Game_ID                                                                         \n",
       "0               Grand Theft Auto V  2014            Action               6.06   \n",
       "1        Call of Duty: Black Ops 3  2015           Shooter               6.18   \n",
       "2            Red Dead Redemption 2  2018  Action-Adventure               5.26   \n",
       "3               Call of Duty: WWII  2017           Shooter               4.67   \n",
       "4                          FIFA 18  2017            Sports               1.27   \n",
       "...                            ...   ...               ...                ...   \n",
       "1022              Moons Of Madness  2017      Role-Playing               0.00   \n",
       "1023                  Iron Harvest  2018          Strategy               0.00   \n",
       "1024                     Biomutant  2018            Action               0.00   \n",
       "1026                       de Blob  2017          Platform               0.00   \n",
       "1028                     Code Vein  2018            Action               0.00   \n",
       "\n",
       "         Europe_ps4  Japan_ps4  Rest of World_ps4  Global_ps4  \\\n",
       "Game_ID                                                         \n",
       "0              9.71       0.60               3.02       19.39   \n",
       "1              6.05       0.41               2.44       15.09   \n",
       "2              6.21       0.21               2.26       13.94   \n",
       "3              6.21       0.40               2.12       13.40   \n",
       "4              8.64       0.15               1.73       11.80   \n",
       "...             ...        ...                ...         ...   \n",
       "1022           0.00       0.00               0.00        0.00   \n",
       "1023           0.00       0.00               0.00        0.00   \n",
       "1024           0.00       0.00               0.00        0.00   \n",
       "1026           0.00       0.00               0.00        0.00   \n",
       "1028           0.00       0.00               0.00        0.00   \n",
       "\n",
       "         North America_xbox  Europe_xbox  Japan_xbox  Rest of World_xbox  \\\n",
       "Game_ID                                                                    \n",
       "0                      4.70         3.25        0.01                0.76   \n",
       "1                      4.63         2.04        0.02                0.68   \n",
       "2                      3.76         1.47        0.00                0.54   \n",
       "3                      3.75         1.91        0.00                0.57   \n",
       "4                      0.98         1.92        0.00                0.23   \n",
       "...                     ...          ...         ...                 ...   \n",
       "1022                   0.00         0.00        0.00                0.00   \n",
       "1023                   0.00         0.00        0.00                0.00   \n",
       "1024                   0.00         0.00        0.00                0.00   \n",
       "1026                   0.00         0.00        0.00                0.00   \n",
       "1028                   0.00         0.00        0.00                0.00   \n",
       "\n",
       "         Global_xbox  Global_Total  \n",
       "Game_ID                             \n",
       "0               8.72         28.11  \n",
       "1               7.37         22.46  \n",
       "2               5.77         19.71  \n",
       "3               6.23         19.63  \n",
       "4               3.14         14.94  \n",
       "...              ...           ...  \n",
       "1022            0.00          0.00  \n",
       "1023            0.00          0.00  \n",
       "1024            0.00          0.00  \n",
       "1026            0.00          0.00  \n",
       "1028            0.00          0.00  \n",
       "\n",
       "[496 rows x 14 columns]"
      ]
     },
     "execution_count": 17,
     "metadata": {},
     "output_type": "execute_result"
    }
   ],
   "source": [
    "data_all"
   ]
  },
  {
   "cell_type": "markdown",
   "id": "22fc50c1",
   "metadata": {
    "id": "22fc50c1",
    "papermill": {
     "duration": 0.016375,
     "end_time": "2022-10-18T21:44:12.663357",
     "exception": false,
     "start_time": "2022-10-18T21:44:12.646982",
     "status": "completed"
    },
    "tags": []
   },
   "source": [
    "# Analysis on PS4 vs XBox One Game Sales"
   ]
  },
  {
   "cell_type": "code",
   "execution_count": 18,
   "id": "1Hsj_m6Sco-f",
   "metadata": {
    "colab": {
     "base_uri": "https://localhost:8080/",
     "height": 0
    },
    "executionInfo": {
     "elapsed": 1367,
     "status": "ok",
     "timestamp": 1688424227165,
     "user": {
      "displayName": "amirthan mahindan",
      "userId": "09203620967699906811"
     },
     "user_tz": -60
    },
    "id": "1Hsj_m6Sco-f",
    "outputId": "9d350784-088f-422c-8166-4a4dedb7c165"
   },
   "outputs": [
    {
     "data": {
      "image/png": "[encoded data removed]",
      "text/plain": [
       "<Figure size 864x576 with 1 Axes>"
      ]
     },
     "metadata": {
      "needs_background": "light"
     },
     "output_type": "display_data"
    }
   ],
   "source": [
    "ax = sns.barplot(x = 'Game', y = \"Global\", data = data_ps4[:10])\n",
    "ax.figure.set_size_inches(12, 8)\n",
    "\n",
    "ax.set_title(\"Top 10 Best-Selling PS4 Games\", fontweight=\"bold\", fontsize = 30)\n",
    "ax.set_xlabel('Game', fontsize = 20)\n",
    "ax.set_ylabel('No. of Copies Sold (Millions)', fontsize = 20)\n",
    "plt.xticks(rotation = 90)\n",
    "\n",
    "plt.show()"
   ]
  },
  {
   "cell_type": "code",
   "execution_count": 19,
   "id": "m-ovyH_ycuZV",
   "metadata": {
    "colab": {
     "base_uri": "https://localhost:8080/",
     "height": 0
    },
    "executionInfo": {
     "elapsed": 880,
     "status": "ok",
     "timestamp": 1688424228039,
     "user": {
      "displayName": "amirthan mahindan",
      "userId": "09203620967699906811"
     },
     "user_tz": -60
    },
    "id": "m-ovyH_ycuZV",
    "outputId": "3d550a38-65e4-455f-ff39-d14da7d0441c"
   },
   "outputs": [
    {
     "data": {
      "image/png": "[encoded data removed]",
      "text/plain": [
       "<Figure size 864x576 with 1 Axes>"
      ]
     },
     "metadata": {
      "needs_background": "light"
     },
     "output_type": "display_data"
    }
   ],
   "source": [
    "ax = sns.barplot(x = 'Game', y = \"Global\", data = data_xbox[:10])\n",
    "ax.figure.set_size_inches(12, 8)\n",
    "\n",
    "ax.set_title(\"Top 10 Best-Selling Xbox One Games\", fontweight=\"bold\", fontsize = 30)\n",
    "ax.set_xlabel('Game', fontsize = 20)\n",
    "ax.set_ylabel('No. of Copies Sold (Millions)', fontsize = 20)\n",
    "plt.xticks(rotation = 90)\n",
    "\n",
    "plt.show()"
   ]
  },
  {
   "cell_type": "code",
   "execution_count": 20,
   "id": "ntXiEAtDc8aB",
   "metadata": {
    "executionInfo": {
     "elapsed": 10,
     "status": "ok",
     "timestamp": 1688424228041,
     "user": {
      "displayName": "amirthan mahindan",
      "userId": "09203620967699906811"
     },
     "user_tz": -60
    },
    "id": "ntXiEAtDc8aB"
   },
   "outputs": [],
   "source": [
    "most_sold = data_all.sort_values('Global_Total', ascending = False)"
   ]
  },
  {
   "cell_type": "code",
   "execution_count": 21,
   "id": "fefcefee",
   "metadata": {
    "_kg_hide-input": true,
    "colab": {
     "base_uri": "https://localhost:8080/",
     "height": 0
    },
    "execution": {
     "iopub.execute_input": "2022-10-18T21:44:12.775801Z",
     "iopub.status.busy": "2022-10-18T21:44:12.775393Z",
     "iopub.status.idle": "2022-10-18T21:44:13.104720Z",
     "shell.execute_reply": "2022-10-18T21:44:13.103635Z"
    },
    "executionInfo": {
     "elapsed": 485,
     "status": "ok",
     "timestamp": 1688424228518,
     "user": {
      "displayName": "amirthan mahindan",
      "userId": "09203620967699906811"
     },
     "user_tz": -60
    },
    "id": "fefcefee",
    "outputId": "e0ee627b-b524-49dc-c387-d3c9d06a0ac5",
    "papermill": {
     "duration": 0.349937,
     "end_time": "2022-10-18T21:44:13.107299",
     "exception": false,
     "start_time": "2022-10-18T21:44:12.757362",
     "status": "completed"
    },
    "tags": []
   },
   "outputs": [
    {
     "data": {
      "image/png": "[encoded data removed]",
      "text/plain": [
       "<Figure size 864x576 with 1 Axes>"
      ]
     },
     "metadata": {
      "needs_background": "light"
     },
     "output_type": "display_data"
    }
   ],
   "source": [
    "ax = sns.barplot(y = 'Game', x = \"Global_Total\", data = most_sold[:10])\n",
    "ax.figure.set_size_inches(12, 8)\n",
    "\n",
    "ax.set_title(\"Combined Top 10 Best-Selling PS4 and XBox One Games\", fontweight=\"bold\",fontsize = 30)\n",
    "ax.set_xlabel('No. of Copies Sold (Millions)', fontsize = 20)\n",
    "ax.set_ylabel('Game', fontsize = 20)\n",
    "\n",
    "plt.show()"
   ]
  },
  {
   "cell_type": "code",
   "execution_count": 22,
   "id": "46213cc6",
   "metadata": {
    "_kg_hide-input": true,
    "colab": {
     "base_uri": "https://localhost:8080/",
     "height": 0
    },
    "execution": {
     "iopub.execute_input": "2022-10-18T21:44:13.144562Z",
     "iopub.status.busy": "2022-10-18T21:44:13.144142Z",
     "iopub.status.idle": "2022-10-18T21:44:13.500226Z",
     "shell.execute_reply": "2022-10-18T21:44:13.499102Z"
    },
    "executionInfo": {
     "elapsed": 992,
     "status": "ok",
     "timestamp": 1688424229483,
     "user": {
      "displayName": "amirthan mahindan",
      "userId": "09203620967699906811"
     },
     "user_tz": -60
    },
    "id": "46213cc6",
    "outputId": "bbcb0609-6a9e-4ab2-c0a4-24299412e014",
    "papermill": {
     "duration": 0.377586,
     "end_time": "2022-10-18T21:44:13.502687",
     "exception": false,
     "start_time": "2022-10-18T21:44:13.125101",
     "status": "completed"
    },
    "tags": []
   },
   "outputs": [
    {
     "data": {
      "image/png": "[encoded data removed]",
      "text/plain": [
       "<Figure size 936x576 with 1 Axes>"
      ]
     },
     "metadata": {
      "needs_background": "light"
     },
     "output_type": "display_data"
    }
   ],
   "source": [
    "plt.rc('figure', figsize = (13, 8))\n",
    "\n",
    "plt.bar(most_sold['Game'][:10], most_sold['Global_Total'][:10], color = '#0070D1')\n",
    "plt.bar(most_sold['Game'][:10], most_sold['Global_xbox'][:10], color = '#107C10')\n",
    "\n",
    "plt.title('Proportion of Game Sales for PS4 and XBox One', fontweight=\"bold\", fontsize=20)\n",
    "plt.xlabel('Game', fontsize = 16)\n",
    "plt.ylabel('No. of Copies Sold (Millions)', fontsize = 16)\n",
    "plt.legend(['PS4', 'Xbox'], fontsize = 14)\n",
    "plt.xticks(rotation = 90, fontsize = 10)\n",
    "\n",
    "plt.show()"
   ]
  },
  {
   "cell_type": "code",
   "execution_count": 23,
   "id": "0a2b4f8f",
   "metadata": {
    "execution": {
     "iopub.execute_input": "2022-10-18T21:44:13.617755Z",
     "iopub.status.busy": "2022-10-18T21:44:13.616793Z",
     "iopub.status.idle": "2022-10-18T21:44:13.625114Z",
     "shell.execute_reply": "2022-10-18T21:44:13.624216Z"
    },
    "executionInfo": {
     "elapsed": 48,
     "status": "ok",
     "timestamp": 1688424229484,
     "user": {
      "displayName": "amirthan mahindan",
      "userId": "09203620967699906811"
     },
     "user_tz": -60
    },
    "id": "0a2b4f8f",
    "papermill": {
     "duration": 0.02996,
     "end_time": "2022-10-18T21:44:13.627133",
     "exception": false,
     "start_time": "2022-10-18T21:44:13.597173",
     "status": "completed"
    },
    "tags": []
   },
   "outputs": [],
   "source": [
    "all_games = pd.concat([data_ps4.reset_index(), data_xbox.reset_index()], ignore_index=True)"
   ]
  },
  {
   "cell_type": "code",
   "execution_count": 24,
   "id": "6e5af0d8",
   "metadata": {
    "execution": {
     "iopub.execute_input": "2022-10-18T21:44:13.666092Z",
     "iopub.status.busy": "2022-10-18T21:44:13.665398Z",
     "iopub.status.idle": "2022-10-18T21:44:13.670763Z",
     "shell.execute_reply": "2022-10-18T21:44:13.670033Z"
    },
    "executionInfo": {
     "elapsed": 48,
     "status": "ok",
     "timestamp": 1688424229486,
     "user": {
      "displayName": "amirthan mahindan",
      "userId": "09203620967699906811"
     },
     "user_tz": -60
    },
    "id": "6e5af0d8",
    "papermill": {
     "duration": 0.02724,
     "end_time": "2022-10-18T21:44:13.672789",
     "exception": false,
     "start_time": "2022-10-18T21:44:13.645549",
     "status": "completed"
    },
    "tags": []
   },
   "outputs": [],
   "source": [
    "all_games = all_games.set_index('Game_ID')"
   ]
  },
  {
   "cell_type": "code",
   "execution_count": 25,
   "id": "_6KAtFVKZsEq",
   "metadata": {
    "colab": {
     "base_uri": "https://localhost:8080/",
     "height": 0
    },
    "executionInfo": {
     "elapsed": 49,
     "status": "ok",
     "timestamp": 1688424229488,
     "user": {
      "displayName": "amirthan mahindan",
      "userId": "09203620967699906811"
     },
     "user_tz": -60
    },
    "id": "_6KAtFVKZsEq",
    "outputId": "f4f709a4-9e6c-4a36-c67e-d675882bcd36"
   },
   "outputs": [
    {
     "data": {
      "text/html": [
       "<div>\n",
       "<style scoped>\n",
       "    .dataframe tbody tr th:only-of-type {\n",
       "        vertical-align: middle;\n",
       "    }\n",
       "\n",
       "    .dataframe tbody tr th {\n",
       "        vertical-align: top;\n",
       "    }\n",
       "\n",
       "    .dataframe thead th {\n",
       "        text-align: right;\n",
       "    }\n",
       "</style>\n",
       "<table border=\"1\" class=\"dataframe\">\n",
       "  <thead>\n",
       "    <tr style=\"text-align: right;\">\n",
       "      <th></th>\n",
       "      <th>Game</th>\n",
       "      <th>Year</th>\n",
       "      <th>Genre</th>\n",
       "      <th>Publisher</th>\n",
       "      <th>North America</th>\n",
       "      <th>Europe</th>\n",
       "      <th>Japan</th>\n",
       "      <th>Rest of World</th>\n",
       "      <th>Global</th>\n",
       "    </tr>\n",
       "    <tr>\n",
       "      <th>Game_ID</th>\n",
       "      <th></th>\n",
       "      <th></th>\n",
       "      <th></th>\n",
       "      <th></th>\n",
       "      <th></th>\n",
       "      <th></th>\n",
       "      <th></th>\n",
       "      <th></th>\n",
       "      <th></th>\n",
       "    </tr>\n",
       "  </thead>\n",
       "  <tbody>\n",
       "    <tr>\n",
       "      <th>0</th>\n",
       "      <td>Grand Theft Auto V</td>\n",
       "      <td>2014.0</td>\n",
       "      <td>Action</td>\n",
       "      <td>Rockstar Games</td>\n",
       "      <td>6.06</td>\n",
       "      <td>9.71</td>\n",
       "      <td>0.60</td>\n",
       "      <td>3.02</td>\n",
       "      <td>19.39</td>\n",
       "    </tr>\n",
       "    <tr>\n",
       "      <th>1</th>\n",
       "      <td>Call of Duty: Black Ops 3</td>\n",
       "      <td>2015.0</td>\n",
       "      <td>Shooter</td>\n",
       "      <td>Activision</td>\n",
       "      <td>6.18</td>\n",
       "      <td>6.05</td>\n",
       "      <td>0.41</td>\n",
       "      <td>2.44</td>\n",
       "      <td>15.09</td>\n",
       "    </tr>\n",
       "    <tr>\n",
       "      <th>2</th>\n",
       "      <td>Red Dead Redemption 2</td>\n",
       "      <td>2018.0</td>\n",
       "      <td>Action-Adventure</td>\n",
       "      <td>Rockstar Games</td>\n",
       "      <td>5.26</td>\n",
       "      <td>6.21</td>\n",
       "      <td>0.21</td>\n",
       "      <td>2.26</td>\n",
       "      <td>13.94</td>\n",
       "    </tr>\n",
       "    <tr>\n",
       "      <th>3</th>\n",
       "      <td>Call of Duty: WWII</td>\n",
       "      <td>2017.0</td>\n",
       "      <td>Shooter</td>\n",
       "      <td>Activision</td>\n",
       "      <td>4.67</td>\n",
       "      <td>6.21</td>\n",
       "      <td>0.40</td>\n",
       "      <td>2.12</td>\n",
       "      <td>13.40</td>\n",
       "    </tr>\n",
       "    <tr>\n",
       "      <th>4</th>\n",
       "      <td>FIFA 18</td>\n",
       "      <td>2017.0</td>\n",
       "      <td>Sports</td>\n",
       "      <td>EA Sports</td>\n",
       "      <td>1.27</td>\n",
       "      <td>8.64</td>\n",
       "      <td>0.15</td>\n",
       "      <td>1.73</td>\n",
       "      <td>11.80</td>\n",
       "    </tr>\n",
       "    <tr>\n",
       "      <th>...</th>\n",
       "      <td>...</td>\n",
       "      <td>...</td>\n",
       "      <td>...</td>\n",
       "      <td>...</td>\n",
       "      <td>...</td>\n",
       "      <td>...</td>\n",
       "      <td>...</td>\n",
       "      <td>...</td>\n",
       "      <td>...</td>\n",
       "    </tr>\n",
       "    <tr>\n",
       "      <th>1024</th>\n",
       "      <td>Biomutant</td>\n",
       "      <td>2018.0</td>\n",
       "      <td>Action</td>\n",
       "      <td>THQ Nordic</td>\n",
       "      <td>0.00</td>\n",
       "      <td>0.00</td>\n",
       "      <td>0.00</td>\n",
       "      <td>0.00</td>\n",
       "      <td>0.00</td>\n",
       "    </tr>\n",
       "    <tr>\n",
       "      <th>1024</th>\n",
       "      <td>Biomutant</td>\n",
       "      <td>2019.0</td>\n",
       "      <td>Action</td>\n",
       "      <td>THQ Nordic</td>\n",
       "      <td>0.00</td>\n",
       "      <td>0.00</td>\n",
       "      <td>0.00</td>\n",
       "      <td>0.00</td>\n",
       "      <td>0.00</td>\n",
       "    </tr>\n",
       "    <tr>\n",
       "      <th>1026</th>\n",
       "      <td>de Blob</td>\n",
       "      <td>2017.0</td>\n",
       "      <td>Platform</td>\n",
       "      <td>THQ Nordic</td>\n",
       "      <td>0.00</td>\n",
       "      <td>0.00</td>\n",
       "      <td>0.00</td>\n",
       "      <td>0.00</td>\n",
       "      <td>0.00</td>\n",
       "    </tr>\n",
       "    <tr>\n",
       "      <th>525</th>\n",
       "      <td>Outcast: Second Contact</td>\n",
       "      <td>2017.0</td>\n",
       "      <td>Adventure</td>\n",
       "      <td>Bigben Interactive</td>\n",
       "      <td>0.00</td>\n",
       "      <td>0.00</td>\n",
       "      <td>0.00</td>\n",
       "      <td>0.00</td>\n",
       "      <td>0.00</td>\n",
       "    </tr>\n",
       "    <tr>\n",
       "      <th>1028</th>\n",
       "      <td>Code Vein</td>\n",
       "      <td>2019.0</td>\n",
       "      <td>Action</td>\n",
       "      <td>Bandai Namco Entertainment</td>\n",
       "      <td>0.00</td>\n",
       "      <td>0.00</td>\n",
       "      <td>0.00</td>\n",
       "      <td>0.00</td>\n",
       "      <td>0.00</td>\n",
       "    </tr>\n",
       "  </tbody>\n",
       "</table>\n",
       "<p>1647 rows × 9 columns</p>\n",
       "</div>"
      ],
      "text/plain": [
       "                              Game    Year             Genre  \\\n",
       "Game_ID                                                        \n",
       "0               Grand Theft Auto V  2014.0            Action   \n",
       "1        Call of Duty: Black Ops 3  2015.0           Shooter   \n",
       "2            Red Dead Redemption 2  2018.0  Action-Adventure   \n",
       "3               Call of Duty: WWII  2017.0           Shooter   \n",
       "4                          FIFA 18  2017.0            Sports   \n",
       "...                            ...     ...               ...   \n",
       "1024                     Biomutant  2018.0            Action   \n",
       "1024                     Biomutant  2019.0            Action   \n",
       "1026                       de Blob  2017.0          Platform   \n",
       "525        Outcast: Second Contact  2017.0         Adventure   \n",
       "1028                     Code Vein  2019.0            Action   \n",
       "\n",
       "                          Publisher  North America  Europe  Japan  \\\n",
       "Game_ID                                                             \n",
       "0                    Rockstar Games           6.06    9.71   0.60   \n",
       "1                        Activision           6.18    6.05   0.41   \n",
       "2                    Rockstar Games           5.26    6.21   0.21   \n",
       "3                        Activision           4.67    6.21   0.40   \n",
       "4                         EA Sports           1.27    8.64   0.15   \n",
       "...                             ...            ...     ...    ...   \n",
       "1024                     THQ Nordic           0.00    0.00   0.00   \n",
       "1024                     THQ Nordic           0.00    0.00   0.00   \n",
       "1026                     THQ Nordic           0.00    0.00   0.00   \n",
       "525              Bigben Interactive           0.00    0.00   0.00   \n",
       "1028     Bandai Namco Entertainment           0.00    0.00   0.00   \n",
       "\n",
       "         Rest of World  Global  \n",
       "Game_ID                         \n",
       "0                 3.02   19.39  \n",
       "1                 2.44   15.09  \n",
       "2                 2.26   13.94  \n",
       "3                 2.12   13.40  \n",
       "4                 1.73   11.80  \n",
       "...                ...     ...  \n",
       "1024              0.00    0.00  \n",
       "1024              0.00    0.00  \n",
       "1026              0.00    0.00  \n",
       "525               0.00    0.00  \n",
       "1028              0.00    0.00  \n",
       "\n",
       "[1647 rows x 9 columns]"
      ]
     },
     "execution_count": 25,
     "metadata": {},
     "output_type": "execute_result"
    }
   ],
   "source": [
    "all_games"
   ]
  },
  {
   "cell_type": "code",
   "execution_count": 26,
   "id": "a88d3889",
   "metadata": {
    "execution": {
     "iopub.execute_input": "2022-10-18T21:44:13.711544Z",
     "iopub.status.busy": "2022-10-18T21:44:13.710841Z",
     "iopub.status.idle": "2022-10-18T21:44:13.726222Z",
     "shell.execute_reply": "2022-10-18T21:44:13.725371Z"
    },
    "executionInfo": {
     "elapsed": 47,
     "status": "ok",
     "timestamp": 1688424229490,
     "user": {
      "displayName": "amirthan mahindan",
      "userId": "09203620967699906811"
     },
     "user_tz": -60
    },
    "id": "a88d3889",
    "papermill": {
     "duration": 0.037607,
     "end_time": "2022-10-18T21:44:13.728650",
     "exception": false,
     "start_time": "2022-10-18T21:44:13.691043",
     "status": "completed"
    },
    "tags": []
   },
   "outputs": [],
   "source": [
    "exclusive_xbox = all_games.drop(data_ps4.index, errors = 'ignore').sort_values('Global', ascending = False)\n",
    "exclusive_ps4 = all_games.drop(data_xbox.index, errors = 'ignore').sort_values('Global', ascending = False)\n",
    "exclusive_ps4 = exclusive_ps4.drop(11)\n",
    "exclusive_xbox = exclusive_xbox.drop(1045)\n",
    "exclusive_ps4['Console'] = ['PS4'] * len(exclusive_ps4)\n",
    "exclusive_xbox['Console'] = ['Xbox'] * len(exclusive_xbox)"
   ]
  },
  {
   "cell_type": "code",
   "execution_count": 27,
   "id": "m2SpNao4bBxb",
   "metadata": {
    "colab": {
     "base_uri": "https://localhost:8080/",
     "height": 0
    },
    "executionInfo": {
     "elapsed": 47,
     "status": "ok",
     "timestamp": 1688424229491,
     "user": {
      "displayName": "amirthan mahindan",
      "userId": "09203620967699906811"
     },
     "user_tz": -60
    },
    "id": "m2SpNao4bBxb",
    "outputId": "e4469994-290c-4f6f-8276-21cf6188b2e4"
   },
   "outputs": [
    {
     "data": {
      "text/html": [
       "<div>\n",
       "<style scoped>\n",
       "    .dataframe tbody tr th:only-of-type {\n",
       "        vertical-align: middle;\n",
       "    }\n",
       "\n",
       "    .dataframe tbody tr th {\n",
       "        vertical-align: top;\n",
       "    }\n",
       "\n",
       "    .dataframe thead th {\n",
       "        text-align: right;\n",
       "    }\n",
       "</style>\n",
       "<table border=\"1\" class=\"dataframe\">\n",
       "  <thead>\n",
       "    <tr style=\"text-align: right;\">\n",
       "      <th></th>\n",
       "      <th>Game</th>\n",
       "      <th>Year</th>\n",
       "      <th>Genre</th>\n",
       "      <th>Publisher</th>\n",
       "      <th>North America</th>\n",
       "      <th>Europe</th>\n",
       "      <th>Japan</th>\n",
       "      <th>Rest of World</th>\n",
       "      <th>Global</th>\n",
       "      <th>Console</th>\n",
       "    </tr>\n",
       "    <tr>\n",
       "      <th>Game_ID</th>\n",
       "      <th></th>\n",
       "      <th></th>\n",
       "      <th></th>\n",
       "      <th></th>\n",
       "      <th></th>\n",
       "      <th></th>\n",
       "      <th></th>\n",
       "      <th></th>\n",
       "      <th></th>\n",
       "      <th></th>\n",
       "    </tr>\n",
       "  </thead>\n",
       "  <tbody>\n",
       "    <tr>\n",
       "      <th>1043</th>\n",
       "      <td>Halo 5: Guardians</td>\n",
       "      <td>2015.0</td>\n",
       "      <td>Shooter</td>\n",
       "      <td>Microsoft Studios</td>\n",
       "      <td>2.94</td>\n",
       "      <td>1.49</td>\n",
       "      <td>0.03</td>\n",
       "      <td>0.45</td>\n",
       "      <td>4.92</td>\n",
       "      <td>Xbox</td>\n",
       "    </tr>\n",
       "    <tr>\n",
       "      <th>1046</th>\n",
       "      <td>Forza Horizon 3</td>\n",
       "      <td>2016.0</td>\n",
       "      <td>Racing</td>\n",
       "      <td>Microsoft Studios</td>\n",
       "      <td>1.64</td>\n",
       "      <td>1.96</td>\n",
       "      <td>0.02</td>\n",
       "      <td>0.32</td>\n",
       "      <td>3.93</td>\n",
       "      <td>Xbox</td>\n",
       "    </tr>\n",
       "    <tr>\n",
       "      <th>1048</th>\n",
       "      <td>Gears of War: Ultimate Edition</td>\n",
       "      <td>2015.0</td>\n",
       "      <td>Shooter</td>\n",
       "      <td>Microsoft Studios</td>\n",
       "      <td>2.88</td>\n",
       "      <td>0.37</td>\n",
       "      <td>0.00</td>\n",
       "      <td>0.37</td>\n",
       "      <td>3.62</td>\n",
       "      <td>Xbox</td>\n",
       "    </tr>\n",
       "    <tr>\n",
       "      <th>1050</th>\n",
       "      <td>Halo: The Master Chief Collection</td>\n",
       "      <td>2014.0</td>\n",
       "      <td>Shooter</td>\n",
       "      <td>Microsoft Studios</td>\n",
       "      <td>2.06</td>\n",
       "      <td>1.04</td>\n",
       "      <td>0.03</td>\n",
       "      <td>0.31</td>\n",
       "      <td>3.44</td>\n",
       "      <td>Xbox</td>\n",
       "    </tr>\n",
       "    <tr>\n",
       "      <th>1052</th>\n",
       "      <td>Gears of War 4</td>\n",
       "      <td>2016.0</td>\n",
       "      <td>Shooter</td>\n",
       "      <td>Microsoft Studios</td>\n",
       "      <td>2.17</td>\n",
       "      <td>0.90</td>\n",
       "      <td>0.00</td>\n",
       "      <td>0.32</td>\n",
       "      <td>3.38</td>\n",
       "      <td>Xbox</td>\n",
       "    </tr>\n",
       "    <tr>\n",
       "      <th>...</th>\n",
       "      <td>...</td>\n",
       "      <td>...</td>\n",
       "      <td>...</td>\n",
       "      <td>...</td>\n",
       "      <td>...</td>\n",
       "      <td>...</td>\n",
       "      <td>...</td>\n",
       "      <td>...</td>\n",
       "      <td>...</td>\n",
       "      <td>...</td>\n",
       "    </tr>\n",
       "    <tr>\n",
       "      <th>1515</th>\n",
       "      <td>Powerstar Golf</td>\n",
       "      <td>NaN</td>\n",
       "      <td>Sports</td>\n",
       "      <td>NaN</td>\n",
       "      <td>0.00</td>\n",
       "      <td>0.00</td>\n",
       "      <td>0.00</td>\n",
       "      <td>0.00</td>\n",
       "      <td>0.00</td>\n",
       "      <td>Xbox</td>\n",
       "    </tr>\n",
       "    <tr>\n",
       "      <th>1517</th>\n",
       "      <td>Black Tusk Studios Game</td>\n",
       "      <td>2020.0</td>\n",
       "      <td>Misc</td>\n",
       "      <td>Microsoft Game Studios</td>\n",
       "      <td>0.00</td>\n",
       "      <td>0.00</td>\n",
       "      <td>0.00</td>\n",
       "      <td>0.00</td>\n",
       "      <td>0.00</td>\n",
       "      <td>Xbox</td>\n",
       "    </tr>\n",
       "    <tr>\n",
       "      <th>1525</th>\n",
       "      <td>Fable Legends</td>\n",
       "      <td>2019.0</td>\n",
       "      <td>Role-Playing</td>\n",
       "      <td>Microsoft Studios</td>\n",
       "      <td>0.00</td>\n",
       "      <td>0.00</td>\n",
       "      <td>0.00</td>\n",
       "      <td>0.00</td>\n",
       "      <td>0.00</td>\n",
       "      <td>Xbox</td>\n",
       "    </tr>\n",
       "    <tr>\n",
       "      <th>1528</th>\n",
       "      <td>FORCED</td>\n",
       "      <td>NaN</td>\n",
       "      <td>Role-Playing</td>\n",
       "      <td>NaN</td>\n",
       "      <td>0.00</td>\n",
       "      <td>0.00</td>\n",
       "      <td>0.00</td>\n",
       "      <td>0.00</td>\n",
       "      <td>0.00</td>\n",
       "      <td>Xbox</td>\n",
       "    </tr>\n",
       "    <tr>\n",
       "      <th>1634</th>\n",
       "      <td>We Sing (2016)</td>\n",
       "      <td>2016.0</td>\n",
       "      <td>Music</td>\n",
       "      <td>THQ Nordic</td>\n",
       "      <td>0.00</td>\n",
       "      <td>0.00</td>\n",
       "      <td>0.00</td>\n",
       "      <td>0.00</td>\n",
       "      <td>0.00</td>\n",
       "      <td>Xbox</td>\n",
       "    </tr>\n",
       "  </tbody>\n",
       "</table>\n",
       "<p>115 rows × 10 columns</p>\n",
       "</div>"
      ],
      "text/plain": [
       "                                      Game    Year         Genre  \\\n",
       "Game_ID                                                            \n",
       "1043                     Halo 5: Guardians  2015.0       Shooter   \n",
       "1046                       Forza Horizon 3  2016.0        Racing   \n",
       "1048        Gears of War: Ultimate Edition  2015.0       Shooter   \n",
       "1050     Halo: The Master Chief Collection  2014.0       Shooter   \n",
       "1052                        Gears of War 4  2016.0       Shooter   \n",
       "...                                    ...     ...           ...   \n",
       "1515                        Powerstar Golf     NaN        Sports   \n",
       "1517               Black Tusk Studios Game  2020.0          Misc   \n",
       "1525                         Fable Legends  2019.0  Role-Playing   \n",
       "1528                                FORCED     NaN  Role-Playing   \n",
       "1634                        We Sing (2016)  2016.0         Music   \n",
       "\n",
       "                      Publisher  North America  Europe  Japan  Rest of World  \\\n",
       "Game_ID                                                                        \n",
       "1043          Microsoft Studios           2.94    1.49   0.03           0.45   \n",
       "1046          Microsoft Studios           1.64    1.96   0.02           0.32   \n",
       "1048          Microsoft Studios           2.88    0.37   0.00           0.37   \n",
       "1050          Microsoft Studios           2.06    1.04   0.03           0.31   \n",
       "1052          Microsoft Studios           2.17    0.90   0.00           0.32   \n",
       "...                         ...            ...     ...    ...            ...   \n",
       "1515                        NaN           0.00    0.00   0.00           0.00   \n",
       "1517     Microsoft Game Studios           0.00    0.00   0.00           0.00   \n",
       "1525          Microsoft Studios           0.00    0.00   0.00           0.00   \n",
       "1528                        NaN           0.00    0.00   0.00           0.00   \n",
       "1634                 THQ Nordic           0.00    0.00   0.00           0.00   \n",
       "\n",
       "         Global Console  \n",
       "Game_ID                  \n",
       "1043       4.92    Xbox  \n",
       "1046       3.93    Xbox  \n",
       "1048       3.62    Xbox  \n",
       "1050       3.44    Xbox  \n",
       "1052       3.38    Xbox  \n",
       "...         ...     ...  \n",
       "1515       0.00    Xbox  \n",
       "1517       0.00    Xbox  \n",
       "1525       0.00    Xbox  \n",
       "1528       0.00    Xbox  \n",
       "1634       0.00    Xbox  \n",
       "\n",
       "[115 rows x 10 columns]"
      ]
     },
     "execution_count": 27,
     "metadata": {},
     "output_type": "execute_result"
    }
   ],
   "source": [
    "exclusive_xbox"
   ]
  },
  {
   "cell_type": "markdown",
   "id": "e1422e08",
   "metadata": {
    "id": "e1422e08",
    "papermill": {
     "duration": 0.019379,
     "end_time": "2022-10-18T21:44:13.766427",
     "exception": false,
     "start_time": "2022-10-18T21:44:13.747048",
     "status": "completed"
    },
    "tags": []
   },
   "source": [
    "To find console-exclusive games, PS4 games were removed from all Xbox games to find XBox exclusives and vice versa."
   ]
  },
  {
   "cell_type": "code",
   "execution_count": 28,
   "id": "4f5cfd39",
   "metadata": {
    "execution": {
     "iopub.execute_input": "2022-10-18T21:44:13.805555Z",
     "iopub.status.busy": "2022-10-18T21:44:13.804380Z",
     "iopub.status.idle": "2022-10-18T21:44:13.811780Z",
     "shell.execute_reply": "2022-10-18T21:44:13.810995Z"
    },
    "executionInfo": {
     "elapsed": 45,
     "status": "ok",
     "timestamp": 1688424229493,
     "user": {
      "displayName": "amirthan mahindan",
      "userId": "09203620967699906811"
     },
     "user_tz": -60
    },
    "id": "4f5cfd39",
    "papermill": {
     "duration": 0.028879,
     "end_time": "2022-10-18T21:44:13.813601",
     "exception": false,
     "start_time": "2022-10-18T21:44:13.784722",
     "status": "completed"
    },
    "tags": []
   },
   "outputs": [],
   "source": [
    "best_exclusive = pd.concat([exclusive_ps4.head(), exclusive_xbox.head()])"
   ]
  },
  {
   "cell_type": "code",
   "execution_count": 29,
   "id": "031100a1",
   "metadata": {
    "_kg_hide-input": true,
    "colab": {
     "base_uri": "https://localhost:8080/",
     "height": 0
    },
    "execution": {
     "iopub.execute_input": "2022-10-18T21:44:13.852142Z",
     "iopub.status.busy": "2022-10-18T21:44:13.851429Z",
     "iopub.status.idle": "2022-10-18T21:44:14.290315Z",
     "shell.execute_reply": "2022-10-18T21:44:14.289179Z"
    },
    "executionInfo": {
     "elapsed": 1817,
     "status": "ok",
     "timestamp": 1688424231266,
     "user": {
      "displayName": "amirthan mahindan",
      "userId": "09203620967699906811"
     },
     "user_tz": -60
    },
    "id": "031100a1",
    "outputId": "de4ba2ba-8b86-4981-bef2-7bff3980dfd3",
    "papermill": {
     "duration": 0.4609,
     "end_time": "2022-10-18T21:44:14.292911",
     "exception": false,
     "start_time": "2022-10-18T21:44:13.832011",
     "status": "completed"
    },
    "tags": []
   },
   "outputs": [
    {
     "data": {
      "image/png": "[encoded data removed]",
      "text/plain": [
       "<Figure size 1080x576 with 1 Axes>"
      ]
     },
     "metadata": {
      "needs_background": "light"
     },
     "output_type": "display_data"
    }
   ],
   "source": [
    "ax = sns.barplot(data = best_exclusive, y = 'Game', x = 'Global', hue = 'Console', palette = ['#0070D1','#107C10'], dodge=False)\n",
    "ax.figure.set_size_inches(15, 8)\n",
    "\n",
    "ax.set_title(\"Best-Selling Exclusive Games Across PS4 and XBox One\", fontweight=\"bold\", fontsize = 30)\n",
    "ax.set_xlabel('No. of Copies Sold (Millions)', fontsize = 20)\n",
    "ax.set_ylabel('Game', fontsize = 20)\n",
    "plt.legend(fontsize = 16)\n",
    "\n",
    "plt.show()"
   ]
  },
  {
   "cell_type": "code",
   "execution_count": 30,
   "id": "94a26930",
   "metadata": {
    "_kg_hide-input": true,
    "colab": {
     "base_uri": "https://localhost:8080/"
    },
    "execution": {
     "iopub.execute_input": "2022-10-18T21:44:14.333974Z",
     "iopub.status.busy": "2022-10-18T21:44:14.333128Z",
     "iopub.status.idle": "2022-10-18T21:44:14.351924Z",
     "shell.execute_reply": "2022-10-18T21:44:14.350803Z"
    },
    "executionInfo": {
     "elapsed": 25,
     "status": "ok",
     "timestamp": 1688424231268,
     "user": {
      "displayName": "amirthan mahindan",
      "userId": "09203620967699906811"
     },
     "user_tz": -60
    },
    "id": "94a26930",
    "outputId": "78770b6c-c24c-4160-f069-e589f524c6b4",
    "papermill": {
     "duration": 0.042022,
     "end_time": "2022-10-18T21:44:14.354430",
     "exception": false,
     "start_time": "2022-10-18T21:44:14.312408",
     "status": "completed"
    },
    "tags": []
   },
   "outputs": [],
   "source": [
    "genre_exclusive_ps4 = exclusive_ps4.groupby('Genre').sum().sort_values('Global', ascending=False)\n",
    "genre_exclusive_xbox = exclusive_xbox.groupby('Genre').sum().sort_values('Global', ascending=False)\n",
    "genre_exclusive_ps4['Console'] = ['PS4'] * len(genre_exclusive_ps4)\n",
    "genre_exclusive_xbox['Console'] = ['Xbox'] * len(genre_exclusive_xbox)\n",
    "genre_exclusive = pd.concat([genre_exclusive_ps4.reset_index(), genre_exclusive_xbox.reset_index()]).sort_values('Global', ascending=False)"
   ]
  },
  {
   "cell_type": "code",
   "execution_count": 31,
   "id": "b48b4be6",
   "metadata": {
    "_kg_hide-input": true,
    "colab": {
     "base_uri": "https://localhost:8080/",
     "height": 0
    },
    "execution": {
     "iopub.execute_input": "2022-10-18T21:44:14.394821Z",
     "iopub.status.busy": "2022-10-18T21:44:14.394404Z",
     "iopub.status.idle": "2022-10-18T21:44:14.847846Z",
     "shell.execute_reply": "2022-10-18T21:44:14.846650Z"
    },
    "executionInfo": {
     "elapsed": 1030,
     "status": "ok",
     "timestamp": 1688424232278,
     "user": {
      "displayName": "amirthan mahindan",
      "userId": "09203620967699906811"
     },
     "user_tz": -60
    },
    "id": "b48b4be6",
    "outputId": "dcc392e8-e380-4311-84f2-f91efc898fde",
    "papermill": {
     "duration": 0.476475,
     "end_time": "2022-10-18T21:44:14.850541",
     "exception": false,
     "start_time": "2022-10-18T21:44:14.374066",
     "status": "completed"
    },
    "tags": []
   },
   "outputs": [
    {
     "data": {
      "image/png": "[encoded data removed]",
      "text/plain": [
       "<Figure size 1152x576 with 1 Axes>"
      ]
     },
     "metadata": {
      "needs_background": "light"
     },
     "output_type": "display_data"
    }
   ],
   "source": [
    "ax = sns.barplot(data = genre_exclusive, y = 'Genre', x = 'Global', hue = 'Console', palette = ['#0070D1','#107C10'])\n",
    "ax.figure.set_size_inches(16, 8)\n",
    "\n",
    "ax.set_title(\"Most Popular Genres for Exclusive Titles\", fontweight=\"bold\", fontsize = 30)\n",
    "ax.set_xlabel('No. of Copies Sold (Millions)', fontsize = 20)\n",
    "ax.set_ylabel('Game', fontsize = 20)\n",
    "plt.xticks(rotation = 90, fontsize = 14)\n",
    "plt.legend(fontsize = 14, loc='lower right')\n",
    "\n",
    "plt.show()"
   ]
  },
  {
   "cell_type": "markdown",
   "id": "6f7734ca",
   "metadata": {
    "id": "6f7734ca",
    "papermill": {
     "duration": 0.020294,
     "end_time": "2022-10-18T21:44:14.931846",
     "exception": false,
     "start_time": "2022-10-18T21:44:14.911552",
     "status": "completed"
    },
    "tags": []
   },
   "source": [
    "# Analysis on Popularity of Different Genres from 2013-2018"
   ]
  },
  {
   "cell_type": "code",
   "execution_count": 32,
   "id": "f4ed0a05",
   "metadata": {
    "_kg_hide-input": true,
    "execution": {
     "iopub.execute_input": "2022-10-18T21:44:14.974801Z",
     "iopub.status.busy": "2022-10-18T21:44:14.974380Z",
     "iopub.status.idle": "2022-10-18T21:44:15.264703Z",
     "shell.execute_reply": "2022-10-18T21:44:15.263903Z"
    },
    "id": "f4ed0a05",
    "papermill": {
     "duration": 0.313939,
     "end_time": "2022-10-18T21:44:15.266828",
     "exception": false,
     "start_time": "2022-10-18T21:44:14.952889",
     "status": "completed"
    },
    "tags": []
   },
   "outputs": [
    {
     "data": {
      "image/png": "[encoded data removed]",
      "text/plain": [
       "<Figure size 864x576 with 1 Axes>"
      ]
     },
     "metadata": {
      "needs_background": "light"
     },
     "output_type": "display_data"
    }
   ],
   "source": [
    "ax = sns.barplot(data = all_games.groupby(\"Year\").sum().head(6).reset_index(), x = 'Year', y = 'Global', color='#FFBF00')\n",
    "\n",
    "ax.figure.set_size_inches(12, 8)\n",
    "ax.set_title('Total PS4 and XBox One Game Copies Sold per Year', fontweight=\"bold\", fontsize=30)\n",
    "ax.set_xlabel('Year', fontsize=18)\n",
    "ax.set_ylabel('No. of Copies Sold (Millions)', fontsize=18)\n",
    "plt.xticks(rotation=45, fontsize=12)\n",
    "plt.yticks(fontsize=12)\n",
    "\n",
    "plt.show()"
   ]
  },
  {
   "cell_type": "code",
   "execution_count": 33,
   "id": "d6a8c0d9",
   "metadata": {
    "execution": {
     "iopub.execute_input": "2022-10-18T21:44:15.349584Z",
     "iopub.status.busy": "2022-10-18T21:44:15.348687Z",
     "iopub.status.idle": "2022-10-18T21:44:15.361454Z",
     "shell.execute_reply": "2022-10-18T21:44:15.360258Z"
    },
    "id": "d6a8c0d9",
    "papermill": {
     "duration": 0.036505,
     "end_time": "2022-10-18T21:44:15.363782",
     "exception": false,
     "start_time": "2022-10-18T21:44:15.327277",
     "status": "completed"
    },
    "tags": []
   },
   "outputs": [],
   "source": [
    "genre_total = all_games.groupby(['Genre']).sum().sort_values('Global', ascending=False)\n",
    "genre_more_than_20_global = genre_total.query('Global > 20')\n",
    "genre_more_than_20_global = genre_more_than_20_global.index.tolist()"
   ]
  },
  {
   "cell_type": "code",
   "execution_count": 34,
   "id": "64b410e0",
   "metadata": {
    "execution": {
     "iopub.execute_input": "2022-10-18T21:44:15.407100Z",
     "iopub.status.busy": "2022-10-18T21:44:15.406181Z",
     "iopub.status.idle": "2022-10-18T21:44:15.449922Z",
     "shell.execute_reply": "2022-10-18T21:44:15.448859Z"
    },
    "id": "64b410e0",
    "papermill": {
     "duration": 0.067962,
     "end_time": "2022-10-18T21:44:15.452058",
     "exception": false,
     "start_time": "2022-10-18T21:44:15.384096",
     "status": "completed"
    },
    "tags": []
   },
   "outputs": [
    {
     "data": {
      "text/plain": [
       "array(['Shooter', 'Action', 'Sports', 'Action-Adventure', 'Role-Playing',\n",
       "       'Racing', 'Fighting', 'Misc', 'Platform', 'Adventure'],\n",
       "      dtype=object)"
      ]
     },
     "execution_count": 34,
     "metadata": {},
     "output_type": "execute_result"
    }
   ],
   "source": [
    "most_played_genres = pd.DataFrame()\n",
    "\n",
    "for genre in genre_more_than_20_global:\n",
    "  temp = all_games.query('Genre in \"%s\"' % genre)\n",
    "  most_played_genres = pd.concat([most_played_genres, temp])\n",
    "\n",
    "most_played_genres['Genre'].unique()"
   ]
  },
  {
   "cell_type": "code",
   "execution_count": 35,
   "id": "d3faaecd",
   "metadata": {
    "_kg_hide-input": true,
    "execution": {
     "iopub.execute_input": "2022-10-18T21:44:15.494075Z",
     "iopub.status.busy": "2022-10-18T21:44:15.493006Z",
     "iopub.status.idle": "2022-10-18T21:44:15.897233Z",
     "shell.execute_reply": "2022-10-18T21:44:15.896094Z"
    },
    "id": "d3faaecd",
    "papermill": {
     "duration": 0.428895,
     "end_time": "2022-10-18T21:44:15.900948",
     "exception": false,
     "start_time": "2022-10-18T21:44:15.472053",
     "status": "completed"
    },
    "tags": []
   },
   "outputs": [
    {
     "data": {
      "image/png": "[encoded data removed]",
      "text/plain": [
       "<Figure size 1008x576 with 1 Axes>"
      ]
     },
     "metadata": {
      "needs_background": "light"
     },
     "output_type": "display_data"
    }
   ],
   "source": [
    "ax = sns.barplot(x = genre_total.index, y = genre_total['Global'], palette = 'bright')\n",
    "ax.figure.set_size_inches(14, 8)\n",
    "\n",
    "ax.set_title(\"Most to Least Popular Genres\", fontweight=\"bold\", fontsize = 28)\n",
    "ax.set_ylabel('No. of Copies Sold (Millions)', fontsize = 18)\n",
    "ax.set_xlabel('Genre', fontsize = 18)\n",
    "plt.xticks(rotation=45, fontsize=12)\n",
    "\n",
    "plt.show()"
   ]
  },
  {
   "cell_type": "code",
   "execution_count": 41,
   "id": "0b37a440",
   "metadata": {
    "_kg_hide-input": true,
    "execution": {
     "iopub.execute_input": "2022-10-18T21:44:15.954210Z",
     "iopub.status.busy": "2022-10-18T21:44:15.953282Z",
     "iopub.status.idle": "2022-10-18T21:44:17.657041Z",
     "shell.execute_reply": "2022-10-18T21:44:17.656199Z"
    },
    "id": "0b37a440",
    "papermill": {
     "duration": 1.730398,
     "end_time": "2022-10-18T21:44:17.660306",
     "exception": false,
     "start_time": "2022-10-18T21:44:15.929908",
     "status": "completed"
    },
    "tags": []
   },
   "outputs": [
    {
     "data": {
      "image/png": "[encoded data removed]",
      "text/plain": [
       "<Figure size 1440x576 with 1 Axes>"
      ]
     },
     "metadata": {
      "needs_background": "light"
     },
     "output_type": "display_data"
    }
   ],
   "source": [
    "ax = sns.lineplot(x = 'Year', y = 'Global', hue = 'Genre', data = most_played_genres.reset_index(), err_style=None, palette='bright')\n",
    "ax.figure.set_size_inches(20, 8)\n",
    "ax.set_title('Genre Popularity Over the Years', fontweight=\"bold\", fontsize=24)\n",
    "ax.set_xlabel('Year', fontsize=18)\n",
    "ax.set_ylabel('No. of Copies Sold (Millions)', fontsize=18)\n",
    "plt.legend(loc = 'upper right', fontsize = 12)\n",
    "plt.show()"
   ]
  },
  {
   "cell_type": "code",
   "execution_count": 37,
   "id": "c05b351b",
   "metadata": {
    "execution": {
     "iopub.execute_input": "2022-10-18T21:44:17.709963Z",
     "iopub.status.busy": "2022-10-18T21:44:17.709379Z",
     "iopub.status.idle": "2022-10-18T21:44:17.713800Z",
     "shell.execute_reply": "2022-10-18T21:44:17.713068Z"
    },
    "executionInfo": {
     "elapsed": 254,
     "status": "ok",
     "timestamp": 1688426234732,
     "user": {
      "displayName": "amirthan mahindan",
      "userId": "09203620967699906811"
     },
     "user_tz": -60
    },
    "id": "c05b351b",
    "papermill": {
     "duration": 0.031333,
     "end_time": "2022-10-18T21:44:17.715807",
     "exception": false,
     "start_time": "2022-10-18T21:44:17.684474",
     "status": "completed"
    },
    "tags": []
   },
   "outputs": [],
   "source": [
    "# Take off Years 2019 and 2020\n",
    "years = all_games.Year.dropna().unique()[:-2]"
   ]
  },
  {
   "cell_type": "code",
   "execution_count": 38,
   "id": "3671c848",
   "metadata": {
    "_kg_hide-input": true,
    "execution": {
     "iopub.execute_input": "2022-10-18T21:44:17.810708Z",
     "iopub.status.busy": "2022-10-18T21:44:17.810009Z",
     "iopub.status.idle": "2022-10-18T21:44:17.860942Z",
     "shell.execute_reply": "2022-10-18T21:44:17.859759Z"
    },
    "executionInfo": {
     "elapsed": 241,
     "status": "ok",
     "timestamp": 1688426282485,
     "user": {
      "displayName": "amirthan mahindan",
      "userId": "09203620967699906811"
     },
     "user_tz": -60
    },
    "id": "3671c848",
    "papermill": {
     "duration": 0.07849,
     "end_time": "2022-10-18T21:44:17.863554",
     "exception": false,
     "start_time": "2022-10-18T21:44:17.785064",
     "status": "completed"
    },
    "tags": []
   },
   "outputs": [],
   "source": [
    "games_per_year = pd.DataFrame()\n",
    "\n",
    "for year in years:\n",
    "  game_year = pd.DataFrame(all_games.drop_duplicates('Game').reset_index().sort_values('Global', ascending = False) \\\n",
    "                          .query('Year == %d' % int(year)).iloc[:3][['Game', 'Year', 'Global', 'Genre']])\n",
    "  games_per_year = pd.concat([games_per_year, game_year])\n",
    "\n",
    "games_per_year = games_per_year.sort_values('Year')"
   ]
  },
  {
   "cell_type": "code",
   "execution_count": 39,
   "id": "5004cc63",
   "metadata": {
    "execution": {
     "iopub.execute_input": "2022-10-18T21:44:17.912342Z",
     "iopub.status.busy": "2022-10-18T21:44:17.911920Z",
     "iopub.status.idle": "2022-10-18T21:44:17.927771Z",
     "shell.execute_reply": "2022-10-18T21:44:17.926697Z"
    },
    "id": "5004cc63",
    "papermill": {
     "duration": 0.042967,
     "end_time": "2022-10-18T21:44:17.929855",
     "exception": false,
     "start_time": "2022-10-18T21:44:17.886888",
     "status": "completed"
    },
    "tags": []
   },
   "outputs": [
    {
     "data": {
      "text/html": [
       "<div>\n",
       "<style scoped>\n",
       "    .dataframe tbody tr th:only-of-type {\n",
       "        vertical-align: middle;\n",
       "    }\n",
       "\n",
       "    .dataframe tbody tr th {\n",
       "        vertical-align: top;\n",
       "    }\n",
       "\n",
       "    .dataframe thead th {\n",
       "        text-align: right;\n",
       "    }\n",
       "</style>\n",
       "<table border=\"1\" class=\"dataframe\">\n",
       "  <thead>\n",
       "    <tr style=\"text-align: right;\">\n",
       "      <th></th>\n",
       "      <th>Game</th>\n",
       "      <th>Year</th>\n",
       "      <th>Global</th>\n",
       "      <th>Genre</th>\n",
       "    </tr>\n",
       "  </thead>\n",
       "  <tbody>\n",
       "    <tr>\n",
       "      <th>2</th>\n",
       "      <td>Red Dead Redemption 2</td>\n",
       "      <td>2018.0</td>\n",
       "      <td>13.94</td>\n",
       "      <td>Action-Adventure</td>\n",
       "    </tr>\n",
       "    <tr>\n",
       "      <th>7</th>\n",
       "      <td>Spider-Man (PS4)</td>\n",
       "      <td>2018.0</td>\n",
       "      <td>8.76</td>\n",
       "      <td>Action-Adventure</td>\n",
       "    </tr>\n",
       "    <tr>\n",
       "      <th>17</th>\n",
       "      <td>God of War (PS4)</td>\n",
       "      <td>2018.0</td>\n",
       "      <td>6.15</td>\n",
       "      <td>Action</td>\n",
       "    </tr>\n",
       "  </tbody>\n",
       "</table>\n",
       "</div>"
      ],
      "text/plain": [
       "                     Game    Year  Global             Genre\n",
       "2   Red Dead Redemption 2  2018.0   13.94  Action-Adventure\n",
       "7        Spider-Man (PS4)  2018.0    8.76  Action-Adventure\n",
       "17       God of War (PS4)  2018.0    6.15            Action"
      ]
     },
     "execution_count": 39,
     "metadata": {},
     "output_type": "execute_result"
    }
   ],
   "source": [
    "games_per_year.query('Year == 2018')"
   ]
  },
  {
   "cell_type": "code",
   "execution_count": 40,
   "id": "3c9a8f7e",
   "metadata": {
    "_kg_hide-input": true,
    "execution": {
     "iopub.execute_input": "2022-10-18T21:44:17.978951Z",
     "iopub.status.busy": "2022-10-18T21:44:17.978499Z",
     "iopub.status.idle": "2022-10-18T21:44:18.849911Z",
     "shell.execute_reply": "2022-10-18T21:44:18.848809Z"
    },
    "id": "3c9a8f7e",
    "papermill": {
     "duration": 0.899046,
     "end_time": "2022-10-18T21:44:18.852160",
     "exception": false,
     "start_time": "2022-10-18T21:44:17.953114",
     "status": "completed"
    },
    "tags": []
   },
   "outputs": [
    {
     "data": {
      "image/png": "[encoded data removed]",
      "text/plain": [
       "<Figure size 1440x720 with 1 Axes>"
      ]
     },
     "metadata": {
      "needs_background": "light"
     },
     "output_type": "display_data"
    }
   ],
   "source": [
    "ax = sns.barplot(data = games_per_year, y = 'Game', x = 'Global', hue = 'Year', dodge=False, palette = 'tab10')\n",
    "ax.figure.set_size_inches(20, 10)\n",
    "\n",
    "ax.set_title('Highest-Selling Titles per Year', fontweight=\"bold\", fontsize=24)\n",
    "ax.set_ylabel('Game', fontsize=20)\n",
    "ax.set_xlabel('No. of Copies Sold (Millions)', fontsize=20)\n",
    "plt.legend(loc = 'lower right', fontsize = 14)\n",
    "plt.yticks(fontsize = 12)\n",
    "\n",
    "plt.show()"
   ]
  },
  {
   "cell_type": "code",
   "execution_count": 42,
   "id": "f840d33e",
   "metadata": {
    "_kg_hide-input": true,
    "execution": {
     "iopub.execute_input": "2022-10-18T21:44:19.003127Z",
     "iopub.status.busy": "2022-10-18T21:44:19.002701Z",
     "iopub.status.idle": "2022-10-18T21:44:19.217187Z",
     "shell.execute_reply": "2022-10-18T21:44:19.216123Z"
    },
    "id": "f840d33e",
    "papermill": {
     "duration": 0.242862,
     "end_time": "2022-10-18T21:44:19.219370",
     "exception": false,
     "start_time": "2022-10-18T21:44:18.976508",
     "status": "completed"
    },
    "tags": []
   },
   "outputs": [
    {
     "data": {
      "image/png": "[encoded data removed]",
      "text/plain": [
       "<Figure size 576x576 with 1 Axes>"
      ]
     },
     "metadata": {},
     "output_type": "display_data"
    }
   ],
   "source": [
    "region = [all_games['North America'].sum(), all_games.Europe.sum(), all_games.Japan.sum(), all_games['Rest of World'].sum()]\n",
    "labels = ['North America', 'Europe', 'Japan', 'Rest of World']\n",
    "colours = ['#00FF00', '#00FFFF', '#FF0000', '#FFBF00']\n",
    "explode = [0.05, 0.05, 0.05, 0.05]\n",
    "\n",
    "plt.rc('figure', figsize = (8, 8))\n",
    "fig, ax = plt.subplots()\n",
    "ax.pie(region, labels = labels, autopct = '%.1f%%', colors = colours, explode = explode, textprops=dict(color=\"k\", fontsize=14), pctdistance=0.80)\n",
    "ax.set_title('Proportion of Games Sold Per Region', fontweight=\"bold\", fontsize=20)\n",
    "\n",
    "centre_circle = plt.Circle((0, 0), 0.65, fc='white')\n",
    "fig = plt.gcf()\n",
    "ax.add_artist(centre_circle)\n",
    "\n",
    "ax.axis('equal')\n",
    "\n",
    "plt.show()"
   ]
  }
 ],
 "metadata": {
  "colab": {
   "collapsed_sections": [
    "ab1d4b68",
    "22fc50c1",
    "6f7734ca",
    "45b4459f"
   ],
   "provenance": []
  },
  "kernelspec": {
   "display_name": "Python 3 (ipykernel)",
   "language": "python",
   "name": "python3"
  },
  "language_info": {
   "codemirror_mode": {
    "name": "ipython",
    "version": 3
   },
   "file_extension": ".py",
   "mimetype": "text/x-python",
   "name": "python",
   "nbconvert_exporter": "python",
   "pygments_lexer": "ipython3",
   "version": "3.9.7"
  },
  "papermill": {
   "default_parameters": {},
   "duration": 22.965959,
   "end_time": "2022-10-18T21:44:22.685568",
   "environment_variables": {},
   "exception": null,
   "input_path": "__notebook__.ipynb",
   "output_path": "__notebook__.ipynb",
   "parameters": {},
   "start_time": "2022-10-18T21:43:59.719609",
   "version": "2.3.4"
  }
 },
 "nbformat": 4,
 "nbformat_minor": 5
}
